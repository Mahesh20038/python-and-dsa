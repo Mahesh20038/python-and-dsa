{
 "cells": [
  {
   "cell_type": "code",
   "execution_count": 7,
   "id": "25427f9d",
   "metadata": {},
   "outputs": [
    {
     "name": "stdout",
     "output_type": "stream",
     "text": [
      "enter the limit8\n",
      "1\n",
      "2\n",
      "3\n",
      "4\n",
      "5\n",
      "6\n",
      "7\n",
      "8\n"
     ]
    }
   ],
   "source": [
    "def gen_nat_no_while():\n",
    "    i=1\n",
    "    n=int(input('enter the limit'))\n",
    "    while(i<=n):\n",
    "        print(i)\n",
    "        i+=1\n",
    "gen_nat_no_while()\n"
   ]
  },
  {
   "cell_type": "code",
   "execution_count": 9,
   "id": "0f1aa753",
   "metadata": {},
   "outputs": [
    {
     "name": "stdout",
     "output_type": "stream",
     "text": [
      "1\n",
      "2\n",
      "3\n",
      "4\n",
      "5\n",
      "6\n",
      "7\n",
      "8\n",
      "9\n",
      "45\n"
     ]
    }
   ],
   "source": [
    "def while_loop_example():\n",
    "    sum1=0\n",
    "    count=1\n",
    "    while (count<10):\n",
    "        sum1=sum1+count\n",
    "        cout=count+1\n",
    "        print(count)\n",
    "        count=count+1\n",
    "    print(sum1)\n",
    "while_loop_example()\n"
   ]
  },
  {
   "cell_type": "code",
   "execution_count": 14,
   "id": "0ae34c16",
   "metadata": {},
   "outputs": [
    {
     "name": "stdout",
     "output_type": "stream",
     "text": [
      "22\n",
      "33\n"
     ]
    }
   ],
   "source": [
    "def for_loop_example():\n",
    "    number=[22,33]\n",
    "    for i in number:\n",
    "        print(i)\n",
    "for_loop_example()\n"
   ]
  },
  {
   "cell_type": "code",
   "execution_count": 34,
   "id": "b1c63a8a",
   "metadata": {},
   "outputs": [
    {
     "name": "stdout",
     "output_type": "stream",
     "text": [
      "hacker with suri\n",
      "h\n",
      "a\n",
      "c\n",
      "k\n",
      "e\n",
      "r\n",
      " \n",
      "w\n",
      "i\n",
      "t\n",
      "h\n",
      " \n",
      "s\n",
      "u\n",
      "r\n",
      "i\n"
     ]
    }
   ],
   "source": [
    "def for_loop_examples():\n",
    "    name=input()\n",
    "    for i in range(0,len(name)):\n",
    "        print(name[i])\n",
    "for_loop_examples()\n",
    "        \n",
    "    "
   ]
  },
  {
   "cell_type": "code",
   "execution_count": 21,
   "id": "b65a1acf",
   "metadata": {},
   "outputs": [],
   "source": [
    "list1=['mahesh','pavi','chandana','hacker']"
   ]
  },
  {
   "cell_type": "code",
   "execution_count": 22,
   "id": "e68c32ea",
   "metadata": {},
   "outputs": [
    {
     "data": {
      "text/plain": [
       "4"
      ]
     },
     "execution_count": 22,
     "metadata": {},
     "output_type": "execute_result"
    }
   ],
   "source": [
    "len(list1)\n"
   ]
  },
  {
   "cell_type": "code",
   "execution_count": 23,
   "id": "edba1a25",
   "metadata": {},
   "outputs": [
    {
     "data": {
      "text/plain": [
       "'pavi'"
      ]
     },
     "execution_count": 23,
     "metadata": {},
     "output_type": "execute_result"
    }
   ],
   "source": [
    "max(list1)"
   ]
  },
  {
   "cell_type": "code",
   "execution_count": 24,
   "id": "884d2aca",
   "metadata": {},
   "outputs": [
    {
     "data": {
      "text/plain": [
       "'chandana'"
      ]
     },
     "execution_count": 24,
     "metadata": {},
     "output_type": "execute_result"
    }
   ],
   "source": [
    "min(list1)"
   ]
  },
  {
   "cell_type": "code",
   "execution_count": 25,
   "id": "1d35bf2f",
   "metadata": {},
   "outputs": [
    {
     "data": {
      "text/plain": [
       "4"
      ]
     },
     "execution_count": 25,
     "metadata": {},
     "output_type": "execute_result"
    }
   ],
   "source": [
    "marklist=[22,44,55,11]\n",
    "len(marklist)"
   ]
  },
  {
   "cell_type": "code",
   "execution_count": 26,
   "id": "81a8b029",
   "metadata": {},
   "outputs": [
    {
     "data": {
      "text/plain": [
       "55"
      ]
     },
     "execution_count": 26,
     "metadata": {},
     "output_type": "execute_result"
    }
   ],
   "source": [
    "max(marklist)"
   ]
  },
  {
   "cell_type": "code",
   "execution_count": 27,
   "id": "b0cb93cc",
   "metadata": {},
   "outputs": [
    {
     "data": {
      "text/plain": [
       "11"
      ]
     },
     "execution_count": 27,
     "metadata": {},
     "output_type": "execute_result"
    }
   ],
   "source": [
    "min(marklist)"
   ]
  },
  {
   "cell_type": "code",
   "execution_count": 28,
   "id": "217e70e4",
   "metadata": {},
   "outputs": [
    {
     "data": {
      "text/plain": [
       "4"
      ]
     },
     "execution_count": 28,
     "metadata": {},
     "output_type": "execute_result"
    }
   ],
   "source": [
    "list3=['pravinc',33,22,'suri']\n",
    "len(list3)"
   ]
  },
  {
   "cell_type": "code",
   "execution_count": 32,
   "id": "8d28313b",
   "metadata": {},
   "outputs": [
    {
     "name": "stdout",
     "output_type": "stream",
     "text": [
      "[2, 3, 4, 2, 3, 4, 2, 3, 4]\n"
     ]
    }
   ],
   "source": [
    "arr=[2,3,4]\n",
    "arr=arr*3\n",
    "print(arr)"
   ]
  },
  {
   "cell_type": "code",
   "execution_count": 39,
   "id": "23d39a9c",
   "metadata": {},
   "outputs": [
    {
     "name": "stdout",
     "output_type": "stream",
     "text": [
      "ahens htiw nivarp\n"
     ]
    }
   ],
   "source": [
    "text=\"pravin with sneha\"\n",
    "print(text[::-1])"
   ]
  },
  {
   "cell_type": "code",
   "execution_count": null,
   "id": "272fef93",
   "metadata": {},
   "outputs": [],
   "source": []
  },
  {
   "cell_type": "code",
   "execution_count": 48,
   "id": "6916dcab",
   "metadata": {},
   "outputs": [
    {
     "name": "stdout",
     "output_type": "stream",
     "text": [
      "The original string is : pravin loves hacker\n",
      "The reversed string(using loops) is : rekcah sevol nivarp\n"
     ]
    }
   ],
   "source": [
    "def reverse(s):\n",
    "    str = \"\"\n",
    "    for i in s:\n",
    "        str = i + str\n",
    "    return str\n",
    " \n",
    "s = \"pravin loves hacker\"\n",
    " \n",
    "print(\"The original string is : \", end=\"\")\n",
    "print(s)\n",
    " \n",
    "print(\"The reversed string(using loops) is : \", end=\"\")\n",
    "print(reverse(s))"
   ]
  },
  {
   "cell_type": "code",
   "execution_count": 49,
   "id": "9d9e355f",
   "metadata": {},
   "outputs": [
    {
     "data": {
      "text/plain": [
       "'nivarp'"
      ]
     },
     "execution_count": 49,
     "metadata": {},
     "output_type": "execute_result"
    }
   ],
   "source": [
    "a=\"pravin\"\n",
    "reverse(a)"
   ]
  },
  {
   "cell_type": "code",
   "execution_count": 60,
   "id": "991573e4",
   "metadata": {},
   "outputs": [
    {
     "name": "stdout",
     "output_type": "stream",
     "text": [
      "enter integer:4\n",
      "10\n"
     ]
    }
   ],
   "source": [
    "n=int(input(\"enter integer:\"))\n",
    "sum=0\n",
    "i=1\n",
    "while(i<=n):\n",
    "    sum=sum+i\n",
    "    i=i+1\n",
    "print(sum)"
   ]
  },
  {
   "cell_type": "code",
   "execution_count": 65,
   "id": "bd424f75",
   "metadata": {},
   "outputs": [
    {
     "name": "stdout",
     "output_type": "stream",
     "text": [
      "enter integer:10\n",
      "10\n",
      "9\n",
      "8\n",
      "7\n",
      "6\n",
      "5\n",
      "4\n",
      "3\n",
      "2\n",
      "1\n"
     ]
    }
   ],
   "source": [
    "n=int(input(\"enter integer:\"))\n",
    "i=n\n",
    "while(i>=1):\n",
    "    print(i)\n",
    "    i=i-1"
   ]
  },
  {
   "cell_type": "code",
   "execution_count": 68,
   "id": "21d67aac",
   "metadata": {},
   "outputs": [
    {
     "name": "stdout",
     "output_type": "stream",
     "text": [
      "10\n",
      "Fibonacci series is: \n",
      "0 1 1 2 3 5 8 13 21 34 "
     ]
    }
   ],
   "source": [
    "n = int(input())\n",
    "a = 0\n",
    "b = 1\n",
    "sum = a + b\n",
    "count = 1\n",
    "print(\"Fibonacci series is: \",)\n",
    "while (count <= n):\n",
    "    count += 1\n",
    "    print(a, end=\" \")\n",
    "    a = b\n",
    "    b = sum\n",
    "    sum = a + b"
   ]
  },
  {
   "cell_type": "code",
   "execution_count": 69,
   "id": "73b6ffd9",
   "metadata": {},
   "outputs": [
    {
     "name": "stdout",
     "output_type": "stream",
     "text": [
      "enter a number: 5\n",
      "the factorial of 5 is 1\n",
      "the factorial of 5 is 2\n",
      "the factorial of 5 is 6\n",
      "the factorial of 5 is 24\n",
      "the factorial of 5 is 120\n"
     ]
    }
   ],
   "source": [
    "fact=1\n",
    "i=1\n",
    "num=int(input(\"enter a number: \"))\n",
    "while i<=num:\n",
    "    fact=fact*i\n",
    "    i=i+1\n",
    "    print(\"the factorial of\",num,\"is\",fact)"
   ]
  },
  {
   "cell_type": "code",
   "execution_count": null,
   "id": "70c1cb2d",
   "metadata": {},
   "outputs": [],
   "source": []
  }
 ],
 "metadata": {
  "kernelspec": {
   "display_name": "Python 3 (ipykernel)",
   "language": "python",
   "name": "python3"
  },
  "language_info": {
   "codemirror_mode": {
    "name": "ipython",
    "version": 3
   },
   "file_extension": ".py",
   "mimetype": "text/x-python",
   "name": "python",
   "nbconvert_exporter": "python",
   "pygments_lexer": "ipython3",
   "version": "3.9.7"
  }
 },
 "nbformat": 4,
 "nbformat_minor": 5
}
