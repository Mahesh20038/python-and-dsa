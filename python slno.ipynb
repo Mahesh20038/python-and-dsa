{
 "cells": [
  {
   "cell_type": "code",
   "execution_count": 11,
   "id": "33fc95d6",
   "metadata": {},
   "outputs": [
    {
     "name": "stdout",
     "output_type": "stream",
     "text": [
      "enter number of elements : 4\n",
      "enter elements : -11\n",
      "enter elements : -22\n",
      "enter elements : -33\n",
      "enter elements : -44\n",
      "second largest elements is :  -22\n"
     ]
    }
   ],
   "source": [
    "a=[]\n",
    "n=int(input(\"enter number of elements : \"))\n",
    "for i in range(1,n+1):\n",
    "    b=int(input(\"enter elements : \"))\n",
    "    a.append(b)\n",
    "a.sort()\n",
    "print(\"second largest elements is : \",a[n-2])    "
   ]
  },
  {
   "cell_type": "code",
   "execution_count": 14,
   "id": "1f79bfc7",
   "metadata": {},
   "outputs": [
    {
     "name": "stdout",
     "output_type": "stream",
     "text": [
      "Enter size of list 4\n",
      "Enter element of list -11\n",
      "Enter element of list 33\n",
      "Enter element of list -44\n",
      "Enter element of list 22\n",
      "second largest in  [-11, 33, -44, 22] is\n",
      "22\n"
     ]
    }
   ],
   "source": [
    "def second_largest(list):\n",
    "    large= max(list)\n",
    "    list.remove(large)\n",
    "    large= max(list)\n",
    "    return large\n",
    "li=[]\n",
    "n=int(input(\"Enter size of list \"))\n",
    "for i in range(0,n):\n",
    "    e=int(input(\"Enter element of list \"))\n",
    "    li.append(e)\n",
    "print(\"second largest in \",li,\"is\")\n",
    "print(second_largest(li))            "
   ]
  },
  {
   "cell_type": "code",
   "execution_count": 18,
   "id": "173d7034",
   "metadata": {},
   "outputs": [
    {
     "name": "stdout",
     "output_type": "stream",
     "text": [
      "Enter size of list 4\n",
      "Enter element of list 22\n",
      "Enter element of list 33\n",
      "Enter element of list 11\n",
      "Enter element of list 5\n",
      "second largest in  [22, 33, 11, 5] is\n",
      "22\n"
     ]
    }
   ],
   "source": [
    "def second_largest(list):\n",
    "    maximum= max(list[0],list[1])\n",
    "    second_max= min(list[0],list[1])\n",
    "    n=len(list)\n",
    "    for i in range(2, n):\n",
    "        if list[i]>maximum:\n",
    "            second_max=maximum\n",
    "            maximum=list[i]\n",
    "        else:\n",
    "            if list[i]>second_max:\n",
    "                second_max=list[i]\n",
    "    return second_max\n",
    "li=[]\n",
    "n=int(input(\"Enter size of list \"))\n",
    "for i in range(0,n):\n",
    "    e=int(input(\"Enter element of list \"))\n",
    "    li.append(e)\n",
    "print(\"second largest in \",li,\"is\")\n",
    "print(second_largest(li))            "
   ]
  },
  {
   "cell_type": "code",
   "execution_count": 20,
   "id": "011284f8",
   "metadata": {},
   "outputs": [
    {
     "name": "stdout",
     "output_type": "stream",
     "text": [
      "Enter a: 1\n",
      "Enter b: 2\n",
      "Enter c: 5\n",
      "The solution are (-1-2j) and (-1+2j)\n"
     ]
    }
   ],
   "source": [
    "import cmath  \n",
    "a = float(input('Enter a: '))  \n",
    "b = float(input('Enter b: '))  \n",
    "c = float(input('Enter c: '))  \n",
    "d = (b**2) - (4*a*c)  \n",
    "sol1 = (-b-cmath.sqrt(d))/(2*a)  \n",
    "sol2 = (-b+cmath.sqrt(d))/(2*a)  \n",
    "print('The solution are {0} and {1}'.format(sol1,sol2)) "
   ]
  },
  {
   "cell_type": "code",
   "execution_count": 28,
   "id": "44b1814a",
   "metadata": {},
   "outputs": [
    {
     "name": "stdout",
     "output_type": "stream",
     "text": [
      "2\n",
      "6\n",
      "4\n",
      "(-1.0, -2.0)\n"
     ]
    }
   ],
   "source": [
    "import math\n",
    "def solve_quadratic(a,b,c):\n",
    "    discriminant=b**2-4*a*c\n",
    "    if discriminant>0:\n",
    "        root1=(-b+math.sqrt(discriminant))/(2*a)\n",
    "        root2=(-b-math.sqrt(discriminant))/(2*a)\n",
    "        return root1,root2\n",
    "    elif discriminant==0:\n",
    "        root=-b/(2*a)\n",
    "        return root\n",
    "    else:\n",
    "        return \"no real roots\"\n",
    "a=int(input())\n",
    "b=int(input())\n",
    "c=int(input())\n",
    "roots=solve_quadratic(a,b,c)\n",
    "print(roots)"
   ]
  }
 ],
 "metadata": {
  "kernelspec": {
   "display_name": "Python 3 (ipykernel)",
   "language": "python",
   "name": "python3"
  },
  "language_info": {
   "codemirror_mode": {
    "name": "ipython",
    "version": 3
   },
   "file_extension": ".py",
   "mimetype": "text/x-python",
   "name": "python",
   "nbconvert_exporter": "python",
   "pygments_lexer": "ipython3",
   "version": "3.9.7"
  }
 },
 "nbformat": 4,
 "nbformat_minor": 5
}
