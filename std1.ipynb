{
 "cells": [
  {
   "cell_type": "code",
   "execution_count": 5,
   "id": "8296b83c",
   "metadata": {},
   "outputs": [
    {
     "name": "stdout",
     "output_type": "stream",
     "text": [
      "Enter sudent name : mahi\n",
      "Enter regno : 101\n",
      "Enter course : mca\n",
      "Enter a mark : 100\n",
      "Enter a mark : 77\n",
      "Enter a mark : 88\n",
      "Enter a mark : 99\n",
      "Enter a mark : 99\n",
      "*************************Student Details*****************************\n",
      "---------------------------------------------------------------------\n",
      "Name\t\tRegno\t\tCourse\t\tMarks\n",
      "---------------------------------------------------------------------\n",
      "mahi\t\t101\t\tmca\t\t[100, 77, 88, 99, 99]\n",
      "---------------------------------------------------------------------\n",
      "Total Mark is :  463\n",
      "Average marks is :  92.6\n",
      "A Grade\n"
     ]
    }
   ],
   "source": [
    "class student:\n",
    "    def __init__(self, name, regno, course, marks):\n",
    "        self.studentName = name\n",
    "        self.regno = regno\n",
    "        self.course = course\n",
    "        self.marks = marks\n",
    "\n",
    "    def getStudentDetails(self):\n",
    "        print(\"*************************Student Details*****************************\")\n",
    "        print(\"---------------------------------------------------------------------\")\n",
    "        print(\"Name\", end = \"\\t\\t\")\n",
    "        print(\"Regno\", end = \"\\t\\t\")\n",
    "        print(\"Course\", end = \"\\t\\t\")\n",
    "        print(\"Marks\")\n",
    "        print(\"---------------------------------------------------------------------\")\n",
    "        print(self.studentName, end = \"\\t\\t\")\n",
    "        print(self.regno, end = \"\\t\\t\")\n",
    "        print(self.course, end = \"\\t\\t\")\n",
    "        print(self.marks)\n",
    "        print(\"---------------------------------------------------------------------\")\n",
    "\n",
    "    def getTotal(self):\n",
    "        print(\"Total Mark is : \",sum(marks))\n",
    "\n",
    "    def getAverage(self):\n",
    "        total = sum(marks)\n",
    "        avg = total / 5\n",
    "        print(\"Average marks is : \", avg)\n",
    "\n",
    "    def getGrade(self):\n",
    "        total = sum(marks)\n",
    "        avg = total / 5\n",
    "        if avg >= 80 and avg <= 100:\n",
    "            print(\"A Grade\")\n",
    "        elif avg >= 60 and avg < 80:\n",
    "            print(\"B Grade\")\n",
    "        elif avg >= 45 and avg < 60:\n",
    "            print(\"C Grade\")\n",
    "        elif avg >= 35 and avh < 45:\n",
    "            print(\"D Grade\")\n",
    "        elif avg < 35:\n",
    "            print(\"Fail\")\n",
    "        else:\n",
    "            print(\"Invalid grade\")\n",
    "\n",
    "name = input(\"Enter sudent name : \")\n",
    "regno = int(input(\"Enter regno : \"))\n",
    "course = input(\"Enter course : \")\n",
    "marks = []\n",
    "for i in range(5):\n",
    "    marks.append(int(input(\"Enter a mark : \")))\n",
    "\n",
    "student1 = student(name, regno, course, marks)\n",
    "student1.getStudentDetails()\n",
    "student1.getTotal()\n",
    "student1.getAverage()\n",
    "student1.getGrade()\n"
   ]
  },
  {
   "cell_type": "code",
   "execution_count": null,
   "id": "51c2ede8",
   "metadata": {},
   "outputs": [],
   "source": []
  }
 ],
 "metadata": {
  "kernelspec": {
   "display_name": "Python 3 (ipykernel)",
   "language": "python",
   "name": "python3"
  },
  "language_info": {
   "codemirror_mode": {
    "name": "ipython",
    "version": 3
   },
   "file_extension": ".py",
   "mimetype": "text/x-python",
   "name": "python",
   "nbconvert_exporter": "python",
   "pygments_lexer": "ipython3",
   "version": "3.9.7"
  }
 },
 "nbformat": 4,
 "nbformat_minor": 5
}
