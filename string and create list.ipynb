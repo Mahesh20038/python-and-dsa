{
 "cells": [
  {
   "cell_type": "code",
   "execution_count": 1,
   "id": "504346dc",
   "metadata": {},
   "outputs": [
    {
     "name": "stdout",
     "output_type": "stream",
     "text": [
      "3\n"
     ]
    }
   ],
   "source": [
    "thistuple=(\"mango\",\"apple\",\"watermelon\")\n",
    "print(len(thistuple))"
   ]
  },
  {
   "cell_type": "code",
   "execution_count": 2,
   "id": "17b84429",
   "metadata": {},
   "outputs": [
    {
     "name": "stdout",
     "output_type": "stream",
     "text": [
      "('mango', 'apple', 'watermelon')\n"
     ]
    }
   ],
   "source": [
    "thistuple=(\"mango\",\"apple\",\"watermelon\")\n",
    "print(thistuple)"
   ]
  },
  {
   "cell_type": "code",
   "execution_count": 6,
   "id": "a24834e8",
   "metadata": {},
   "outputs": [
    {
     "name": "stdout",
     "output_type": "stream",
     "text": [
      "['mango', 'apple', 'watermelon', 'muskmelon']\n"
     ]
    }
   ],
   "source": [
    "thistuple=[\"mango\",\"apple\",\"watermelon\"]\n",
    "thistuple.append(\"muskmelon\")\n",
    "print(thistuple)"
   ]
  },
  {
   "cell_type": "code",
   "execution_count": 7,
   "id": "42de6059",
   "metadata": {},
   "outputs": [
    {
     "name": "stdout",
     "output_type": "stream",
     "text": [
      "['mango', 'apple']\n"
     ]
    }
   ],
   "source": [
    "thistuple=[\"mango\",\"apple\",\"watermelon\"]\n",
    "thistuple.remove(\"watermelon\")\n",
    "print(thistuple)"
   ]
  },
  {
   "cell_type": "code",
   "execution_count": 10,
   "id": "a5c6c31c",
   "metadata": {},
   "outputs": [],
   "source": [
    "def ins(a,pos,ele):\n",
    "    li=list(a)\n",
    "    li.insert(pos,ele)\n",
    "    tu=tuple(li)\n",
    "    print(tu)"
   ]
  },
  {
   "cell_type": "code",
   "execution_count": 11,
   "id": "445537c8",
   "metadata": {},
   "outputs": [
    {
     "name": "stdout",
     "output_type": "stream",
     "text": [
      "(1, 2, 100, 33, 6)\n"
     ]
    }
   ],
   "source": [
    "a=(1,2,33,6)\n",
    "ins(a,2,100)"
   ]
  },
  {
   "cell_type": "code",
   "execution_count": 12,
   "id": "947a46e8",
   "metadata": {},
   "outputs": [
    {
     "name": "stdout",
     "output_type": "stream",
     "text": [
      "(2, 34, 5, 21, 55, 22)\n"
     ]
    }
   ],
   "source": [
    "a=(2,34,5,21,22)\n",
    "ins(a,4,55)"
   ]
  },
  {
   "cell_type": "code",
   "execution_count": 16,
   "id": "850d3327",
   "metadata": {},
   "outputs": [],
   "source": [
    "def rem(a,ele):\n",
    "    li=list(a)\n",
    "    li.remove(ele)\n",
    "    tu=tuple(li)\n",
    "    print(tu)"
   ]
  },
  {
   "cell_type": "code",
   "execution_count": 17,
   "id": "ac1623b3",
   "metadata": {},
   "outputs": [
    {
     "name": "stdout",
     "output_type": "stream",
     "text": [
      "(2, 3, 33)\n"
     ]
    }
   ],
   "source": [
    "a=(2,3,11,33)\n",
    "rem(a,11)"
   ]
  },
  {
   "cell_type": "code",
   "execution_count": 21,
   "id": "b4e46b34",
   "metadata": {},
   "outputs": [
    {
     "name": "stdout",
     "output_type": "stream",
     "text": [
      "Enter the number of elements :4\n",
      "Enter the elements :10\n",
      "Enter the elements :20\n",
      "Enter the elements :30\n",
      "Enter the elements :40\n",
      "The original List is  : [10, 20, 30, 40]\n",
      "your choices are...\n",
      "1.insert\n",
      "2.remove\n",
      "3.append\n",
      "4.len\n",
      "5.pop\n",
      "6.clear\n",
      "7.exit\n",
      "Enter your choice:1\n",
      "enter the position :0\n",
      "enter the element to be insert:5\n",
      "[5, 10, 20, 30, 40]\n",
      "your choices are...\n",
      "1.insert\n",
      "2.remove\n",
      "3.append\n",
      "4.len\n",
      "5.pop\n",
      "6.clear\n",
      "7.exit\n",
      "Enter your choice:2\n",
      "enter the element to be remove:5\n",
      "[10, 20, 30, 40]\n",
      "your choices are...\n",
      "1.insert\n",
      "2.remove\n",
      "3.append\n",
      "4.len\n",
      "5.pop\n",
      "6.clear\n",
      "7.exit\n",
      "Enter your choice:3\n",
      "enter the element to be append:50\n",
      "[10, 20, 30, 40, 50]\n",
      "your choices are...\n",
      "1.insert\n",
      "2.remove\n",
      "3.append\n",
      "4.len\n",
      "5.pop\n",
      "6.clear\n",
      "7.exit\n",
      "Enter your choice:4\n",
      "length of the list is 5\n",
      "your choices are...\n",
      "1.insert\n",
      "2.remove\n",
      "3.append\n",
      "4.len\n",
      "5.pop\n",
      "6.clear\n",
      "7.exit\n",
      "Enter your choice:5\n",
      "enter the position :3\n",
      "[10, 20, 30, 50]\n",
      "your choices are...\n",
      "1.insert\n",
      "2.remove\n",
      "3.append\n",
      "4.len\n",
      "5.pop\n",
      "6.clear\n",
      "7.exit\n",
      "Enter your choice:6\n",
      "None\n",
      "your choices are...\n",
      "1.insert\n",
      "2.remove\n",
      "3.append\n",
      "4.len\n",
      "5.pop\n",
      "6.clear\n",
      "7.exit\n",
      "Enter your choice:7\n"
     ]
    }
   ],
   "source": [
    "list1=[]\n",
    "n=int(input(\"Enter the number of elements :\"))\n",
    "for i in range(1,n+1):\n",
    "    a=int(input(\"Enter the elements :\"))\n",
    "    list1.append(a)\n",
    "   \n",
    "print(\"The original List is \",\":\",list1)\n",
    "\n",
    "while True:\n",
    "    print(\"your choices are...\")\n",
    "    print(\"1.insert\")\n",
    "    print(\"2.remove\")\n",
    "    print(\"3.append\")\n",
    "    print(\"4.len\")\n",
    "    print(\"5.pop\")\n",
    "    print(\"6.clear\")\n",
    "    print(\"7.exit\")\n",
    "    choice=int(input(\"Enter your choice:\"))\n",
    "   \n",
    "    if choice==1:\n",
    "        i=int(input(\"enter the position :\"))\n",
    "        j=int(input(\"enter the element to be insert:\"))\n",
    "        list1.insert(i,j)\n",
    "        print(list1)\n",
    "       \n",
    "    elif choice==2:\n",
    "        j=int(input(\"enter the element to be remove:\"))\n",
    "        list1.remove(j)\n",
    "        print(list1)\n",
    "       \n",
    "    elif choice==3:\n",
    "        j=int(input(\"enter the element to be append:\"))\n",
    "        list1.append(j)\n",
    "        print(list1)\n",
    "       \n",
    "    elif choice==4:\n",
    "        print(\"length of the list is\",len(list1))\n",
    "       \n",
    "    elif choice==5:\n",
    "        i=int(input(\"enter the position :\"))\n",
    "        list1.pop(i)\n",
    "        print(list1)\n",
    "       \n",
    "    elif choice==6:\n",
    "        print(list1.clear())\n",
    "        \n",
    "    elif choice==7:\n",
    "        break\n",
    "       \n",
    "    else:\n",
    "        print(\"please provide a valid input !\")\n"
   ]
  },
  {
   "cell_type": "code",
   "execution_count": 25,
   "id": "3d306a53",
   "metadata": {},
   "outputs": [
    {
     "name": "stdout",
     "output_type": "stream",
     "text": [
      "\n",
      "Menu:\n",
      "1. Concatenate Strings\n",
      "2. Access Substring\n",
      "3. Display Length\n",
      "4. Slicing and Indexing\n",
      "5. String Comparison\n",
      "6. Exit\n",
      "Enter your choice : 1\n",
      "Enter the first string: praveen\n",
      "Enter the second string: kathu\n",
      "Concatenated String: praveen kathu\n",
      "\n",
      "Menu:\n",
      "1. Concatenate Strings\n",
      "2. Access Substring\n",
      "3. Display Length\n",
      "4. Slicing and Indexing\n",
      "5. String Comparison\n",
      "6. Exit\n",
      "Enter your choice : 2\n",
      "Enter a string: suresh\n",
      "Enter the start index: 3\n",
      "Enter the end index: 4\n",
      "Substring: e\n",
      "\n",
      "Menu:\n",
      "1. Concatenate Strings\n",
      "2. Access Substring\n",
      "3. Display Length\n",
      "4. Slicing and Indexing\n",
      "5. String Comparison\n",
      "6. Exit\n",
      "Enter your choice : 3\n",
      "Enter a string: mahi\n",
      "Length of String: 4\n",
      "\n",
      "Menu:\n",
      "1. Concatenate Strings\n",
      "2. Access Substring\n",
      "3. Display Length\n",
      "4. Slicing and Indexing\n",
      "5. String Comparison\n",
      "6. Exit\n",
      "Enter your choice : 4\n",
      "Enter a string: shree\n",
      "First Character: s\n",
      "Last Character: e\n",
      "\n",
      "Menu:\n",
      "1. Concatenate Strings\n",
      "2. Access Substring\n",
      "3. Display Length\n",
      "4. Slicing and Indexing\n",
      "5. String Comparison\n",
      "6. Exit\n",
      "Enter your choice : 5\n",
      "Enter the first string: pragathi\n",
      "Enter the second string: rohini\n",
      "Strings are not equal.\n",
      "\n",
      "Menu:\n",
      "1. Concatenate Strings\n",
      "2. Access Substring\n",
      "3. Display Length\n",
      "4. Slicing and Indexing\n",
      "5. String Comparison\n",
      "6. Exit\n",
      "Enter your choice : 6\n",
      "Exit\n"
     ]
    }
   ],
   "source": [
    "def concatenate_strings():\n",
    "    string1 = input(\"Enter the first string: \")\n",
    "    string2 = input(\"Enter the second string: \")\n",
    "    concatenated_string = string1 + \" \" + string2\n",
    "    print(\"Concatenated String:\", concatenated_string)\n",
    "\n",
    "def access_substring():\n",
    "    string = input(\"Enter a string: \")\n",
    "    start_index = int(input(\"Enter the start index: \"))\n",
    "    end_index = int(input(\"Enter the end index: \"))\n",
    "    substring = string[start_index:end_index]\n",
    "    print(\"Substring:\", substring)\n",
    "\n",
    "def display_length():\n",
    "    string = input(\"Enter a string: \")\n",
    "    length = len(string)\n",
    "    print(\"Length of String:\", length)\n",
    "\n",
    "def slicing_and_indexing():\n",
    "    string = input(\"Enter a string: \")\n",
    "    first_char = string[0]\n",
    "    last_char = string[-1]\n",
    "    print(\"First Character:\", first_char)\n",
    "    print(\"Last Character:\", last_char)\n",
    "\n",
    "def string_comparison():\n",
    "    string1 = input(\"Enter the first string: \")\n",
    "    string2 = input(\"Enter the second string: \")\n",
    "    if string1 == string2:\n",
    "        print(\"Strings are equal.\")\n",
    "    else:\n",
    "        print(\"Strings are not equal.\")\n",
    "\n",
    "while True:\n",
    "    print(\"\\nMenu:\")\n",
    "    print(\"1. Concatenate Strings\")\n",
    "    print(\"2. Access Substring\")\n",
    "    print(\"3. Display Length\")\n",
    "    print(\"4. Slicing and Indexing\")\n",
    "    print(\"5. String Comparison\")\n",
    "    print(\"6. Exit\")\n",
    "\n",
    "    choice = input(\"Enter your choice : \")\n",
    "\n",
    "    if choice == '1':\n",
    "        concatenate_strings()\n",
    "    elif choice == '2':\n",
    "        access_substring()\n",
    "    elif choice == '3':\n",
    "        display_length()\n",
    "    elif choice == '4':\n",
    "        slicing_and_indexing()\n",
    "    elif choice == '5':\n",
    "        string_comparison()\n",
    "    elif choice == '6':\n",
    "        print(\"Exit\")\n",
    "        break\n",
    "    else:\n",
    "        print(\"Invalid choice. Please enter a number between 1 and 6.\")"
   ]
  },
  {
   "cell_type": "code",
   "execution_count": null,
   "id": "f07c8878",
   "metadata": {},
   "outputs": [],
   "source": []
  }
 ],
 "metadata": {
  "kernelspec": {
   "display_name": "Python 3 (ipykernel)",
   "language": "python",
   "name": "python3"
  },
  "language_info": {
   "codemirror_mode": {
    "name": "ipython",
    "version": 3
   },
   "file_extension": ".py",
   "mimetype": "text/x-python",
   "name": "python",
   "nbconvert_exporter": "python",
   "pygments_lexer": "ipython3",
   "version": "3.9.7"
  }
 },
 "nbformat": 4,
 "nbformat_minor": 5
}
