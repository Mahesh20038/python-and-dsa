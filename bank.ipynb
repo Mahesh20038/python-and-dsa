{
 "cells": [
  {
   "cell_type": "code",
   "execution_count": 1,
   "id": "71e0ad2c",
   "metadata": {},
   "outputs": [
    {
     "name": "stdout",
     "output_type": "stream",
     "text": [
      "2000\n",
      "1500\n",
      "21000\n",
      "20500\n"
     ]
    }
   ],
   "source": [
    "class BankAccount(object):\n",
    "    defaultAccNumber = 1        # Class Attribute\n",
    "\n",
    "    def __init__(self, name, balance = 0):\n",
    "        self.name = name\n",
    "        self.balance = balance\n",
    "        self.accountNumber = BankAccount.defaultAccNumber\n",
    "        BankAccount.defaultAccNumber = BankAccount.defaultAccNumber + 1\n",
    "\n",
    "    def deposit(self, amount):\n",
    "        self.balance += amount\n",
    "\n",
    "    def withdraw(self, amount):\n",
    "        if self.balance < amount:\n",
    "            print('Not enough balance!')\n",
    "        else:\n",
    "            self.balance -= amount\n",
    "\n",
    "    def getBalance(self):\n",
    "        return self.balance\n",
    "\n",
    "if __name__ == '__main__':\n",
    "    myObj = BankAccount('Omkar', 1000)\n",
    "    myObj1 = BankAccount('Girish', 20000)\n",
    "    myObj.deposit(1000)\n",
    "    print(myObj.getBalance())\n",
    "    myObj.withdraw(500)\n",
    "    print(myObj.getBalance())\n",
    "    \n",
    "    myObj1.deposit(1000)\n",
    "    print(myObj1.getBalance())\n",
    "    myObj1.withdraw(500)\n",
    "    print(myObj1.getBalance())"
   ]
  },
  {
   "cell_type": "code",
   "execution_count": null,
   "id": "1f0f0f1d",
   "metadata": {},
   "outputs": [],
   "source": []
  }
 ],
 "metadata": {
  "kernelspec": {
   "display_name": "Python 3 (ipykernel)",
   "language": "python",
   "name": "python3"
  },
  "language_info": {
   "codemirror_mode": {
    "name": "ipython",
    "version": 3
   },
   "file_extension": ".py",
   "mimetype": "text/x-python",
   "name": "python",
   "nbconvert_exporter": "python",
   "pygments_lexer": "ipython3",
   "version": "3.9.7"
  }
 },
 "nbformat": 4,
 "nbformat_minor": 5
}
