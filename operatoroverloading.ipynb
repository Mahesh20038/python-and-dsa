{
 "cells": [
  {
   "cell_type": "code",
   "execution_count": 23,
   "id": "ce3da4b9",
   "metadata": {},
   "outputs": [
    {
     "name": "stdout",
     "output_type": "stream",
     "text": [
      "12 24\n"
     ]
    }
   ],
   "source": [
    "class Point:\n",
    "    def __init__(self, x, y):\n",
    "        self.x = x\n",
    "        self.y = y\n",
    "\n",
    "    def __add__(self, other):\n",
    "        new_x = self.x * other.x\n",
    "        new_y = self.y * other.y\n",
    "        return Point(new_x, new_y)\n",
    "\n",
    "point1 = Point(4, 6)\n",
    "point2 = Point(3, 4)\n",
    "\n",
    "result = point1 +  point2\n",
    "print(result.x, result.y)"
   ]
  },
  {
   "cell_type": "code",
   "execution_count": 34,
   "id": "eca7164a",
   "metadata": {},
   "outputs": [
    {
     "name": "stdout",
     "output_type": "stream",
     "text": [
      "7 10\n",
      "1 2\n",
      "12 24\n",
      "1.3333333333333333 1.5\n"
     ]
    }
   ],
   "source": [
    "class Point:\n",
    "    def __init__(self, x, y):\n",
    "        self.x = x\n",
    "        self.y = y\n",
    "\n",
    "    def __add__(self, other):\n",
    "        new_x = self.x + other.x\n",
    "        new_y = self.y + other.y\n",
    "        return Point(new_x, new_y)\n",
    "    \n",
    "    def __sub__(self,other):\n",
    "        new_x = self.x - other.x\n",
    "        new_y = self.y - other.y\n",
    "        return Point(new_x, new_y)\n",
    "    \n",
    "    def __mul__(self,other):\n",
    "        new_x = self.x * other.x\n",
    "        new_y = self.y * other.y\n",
    "        return Point(new_x, new_y)\n",
    "    \n",
    "    def __truediv__(self,other):\n",
    "        new_x = self.x / other.x\n",
    "        new_y = self.y / other.y\n",
    "        return Point(new_x, new_y)\n",
    "    \n",
    "    \n",
    "\n",
    "point1 = Point(4, 6)\n",
    "point2 = Point(3, 4)\n",
    "\n",
    "result = point1 + point2\n",
    "print(result.x, result.y)\n",
    "\n",
    "result = point1 - point2\n",
    "print(result.x, result.y)\n",
    "\n",
    "result = point1 * point2\n",
    "print(result.x, result.y)\n",
    "\n",
    "result = point1 / point2\n",
    "print(result.x, result.y)\n",
    "\n",
    "\n",
    "\n",
    "\n",
    "\n"
   ]
  },
  {
   "cell_type": "code",
   "execution_count": 35,
   "id": "e2c0fd36",
   "metadata": {},
   "outputs": [
    {
     "name": "stdout",
     "output_type": "stream",
     "text": [
      "3\n",
      "suresh\n",
      "12\n",
      "praveenpraveenpraveenpraveen\n"
     ]
    }
   ],
   "source": [
    "print(1 + 2)\n",
    "print(\"sure\"+\"sh\") \n",
    "print(3 * 4)\n",
    " \n",
    "print(\"praveen\"*4)"
   ]
  },
  {
   "cell_type": "code",
   "execution_count": null,
   "id": "f3cf0e61",
   "metadata": {},
   "outputs": [
    {
     "name": "stdout",
     "output_type": "stream",
     "text": [
      "Menu:\n",
      "1. List files in the external directory\n",
      "2. Load a file from the external directory\n",
      "3. Exit\n",
      "Enter your choice (1-3): 1\n",
      "Files in the external directory:\n",
      "AdbeRdr11004_en_US.exe\n",
      "baraha70.rar\n",
      "BraveBrowserSetup 64 Bit.exe\n",
      "ChromeSetup.exe\n",
      "ms office2013\n",
      "NUDI4\n",
      "winrar-x64-420.exe\n",
      "Menu:\n",
      "1. List files in the external directory\n",
      "2. Load a file from the external directory\n",
      "3. Exit\n",
      "Enter your choice (1-3): ChromeSetup.exe\n",
      "Invalid choice. Please enter a valid option.\n",
      "Menu:\n",
      "1. List files in the external directory\n",
      "2. Load a file from the external directory\n",
      "3. Exit\n"
     ]
    }
   ],
   "source": [
    "import os\n",
    "import shutil\n",
    "\n",
    "def display_menu():\n",
    "    print(\"Menu:\")\n",
    "    print(\"1. List files in the external directory\")\n",
    "    print(\"2. Load a file from the external directory\")\n",
    "    print(\"3. Exit\")\n",
    "\n",
    "def list_files(external_directory):\n",
    "    print(\"Files in the external directory:\")\n",
    "    files = os.listdir(external_directory)\n",
    "    for file in files:\n",
    "        print(file)\n",
    "\n",
    "def load_file(external_directory):\n",
    "    file_name = input(\"Enter the name of the file to load: \")\n",
    "    source_path = os.path.join(external_directory, file_name)\n",
    "\n",
    "    if os.path.exists(source_path):\n",
    "        destination_path = os.path.join(os.getcwd(), file_name)\n",
    "        shutil.copyfile(source_path, destination_path)\n",
    "        print(f\"File '{file_name}' loaded successfully.\")\n",
    "    else:\n",
    "        print(f\"File '{file_name}' not found in the external directory.\")\n",
    "\n",
    "if __name__ == \"__main__\":\n",
    "    external_directory = \"D:\\cyber_softwares\"  # Replace with the actual path\n",
    "\n",
    "    while True:\n",
    "        display_menu()\n",
    "        choice = input(\"Enter your choice (1-3): \")\n",
    "\n",
    "        if choice == \"1\":\n",
    "            list_files(external_directory)\n",
    "        elif choice == \"2\":\n",
    "            load_file(external_directory)\n",
    "        elif choice == \"3\":\n",
    "            print(\"Exiting the program. Goodbye!\")\n",
    "            break\n",
    "        else:\n",
    "            print(\"Invalid choice. Please enter a valid option.\")\n",
    "\n"
   ]
  },
  {
   "cell_type": "code",
   "execution_count": null,
   "id": "0f84b075",
   "metadata": {},
   "outputs": [],
   "source": []
  }
 ],
 "metadata": {
  "kernelspec": {
   "display_name": "Python 3 (ipykernel)",
   "language": "python",
   "name": "python3"
  },
  "language_info": {
   "codemirror_mode": {
    "name": "ipython",
    "version": 3
   },
   "file_extension": ".py",
   "mimetype": "text/x-python",
   "name": "python",
   "nbconvert_exporter": "python",
   "pygments_lexer": "ipython3",
   "version": "3.9.7"
  }
 },
 "nbformat": 4,
 "nbformat_minor": 5
}
