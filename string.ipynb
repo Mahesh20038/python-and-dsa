{
 "cells": [
  {
   "cell_type": "code",
   "execution_count": 1,
   "id": "a1329452",
   "metadata": {},
   "outputs": [
    {
     "name": "stdout",
     "output_type": "stream",
     "text": [
      "9\n"
     ]
    }
   ],
   "source": [
    "def mymax(a,*b):\n",
    "    large=a\n",
    "    for ele in b:\n",
    "        if ele>large:\n",
    "            large=ele\n",
    "    return large\n",
    "print(mymax(4,5,7,3,1,8,9,2))"
   ]
  },
  {
   "cell_type": "code",
   "execution_count": 14,
   "id": "ef18b3c0",
   "metadata": {},
   "outputs": [
    {
     "name": "stdout",
     "output_type": "stream",
     "text": [
      "0 + 5 =5\n",
      "5 + 9 =14\n",
      "14 + 2 =16\n",
      "16 + 4 =20\n",
      "20\n"
     ]
    }
   ],
   "source": [
    "def mysum(*a):\n",
    "    total=0\n",
    "    for ele in a:\n",
    "        print(total,\"+\",ele,\"=\",end='')\n",
    "        total+=ele\n",
    "        print(total)\n",
    "    return total\n",
    "print(mysum(5,9,2,4))"
   ]
  },
  {
   "cell_type": "code",
   "execution_count": null,
   "id": "4c317591",
   "metadata": {},
   "outputs": [],
   "source": []
  },
  {
   "cell_type": "code",
   "execution_count": 18,
   "id": "8f7c4aee",
   "metadata": {},
   "outputs": [
    {
     "name": "stdout",
     "output_type": "stream",
     "text": [
      "28\n"
     ]
    }
   ],
   "source": [
    "def multiply(x,y):\n",
    "    return x*y\n",
    "a=4\n",
    "b=7\n",
    "operation=multiply\n",
    "print(operation(a,b))"
   ]
  },
  {
   "cell_type": "code",
   "execution_count": 3,
   "id": "8a5e59c1",
   "metadata": {},
   "outputs": [
    {
     "name": "stdout",
     "output_type": "stream",
     "text": [
      "enter string1praven is decent guy \n",
      "enter string2and RCB fan\n",
      "praven is decent guy \n",
      "and RCB fan\n"
     ]
    }
   ],
   "source": [
    "str1=input(\"enter string1\")\n",
    "str2=input(\"enter string2\")\n",
    "print(str1)\n",
    "print(str2)"
   ]
  },
  {
   "cell_type": "code",
   "execution_count": 4,
   "id": "e79c4970",
   "metadata": {},
   "outputs": [
    {
     "name": "stdout",
     "output_type": "stream",
     "text": [
      "praven is decent guy and RCB fan\n"
     ]
    }
   ],
   "source": [
    "str3=(str1+str2)\n",
    "print(str3)"
   ]
  },
  {
   "cell_type": "code",
   "execution_count": 5,
   "id": "9004b36e",
   "metadata": {},
   "outputs": [
    {
     "name": "stdout",
     "output_type": "stream",
     "text": [
      "ven is \n"
     ]
    }
   ],
   "source": [
    "print(str3[3:10])"
   ]
  },
  {
   "cell_type": "code",
   "execution_count": 6,
   "id": "9871f2d8",
   "metadata": {},
   "outputs": [
    {
     "name": "stdout",
     "output_type": "stream",
     "text": [
      "32\n"
     ]
    }
   ],
   "source": [
    "print(len(str3))"
   ]
  },
  {
   "cell_type": "code",
   "execution_count": 7,
   "id": "414a2e79",
   "metadata": {},
   "outputs": [
    {
     "name": "stdout",
     "output_type": "stream",
     "text": [
      "PRAVEN IS DECENT GUY AND RCB FAN\n"
     ]
    }
   ],
   "source": [
    "print(str3.upper())"
   ]
  },
  {
   "cell_type": "code",
   "execution_count": 8,
   "id": "fea2cf82",
   "metadata": {},
   "outputs": [
    {
     "name": "stdout",
     "output_type": "stream",
     "text": [
      "praven is decent guy and rcb fan\n"
     ]
    }
   ],
   "source": [
    "print(str3.lower())"
   ]
  },
  {
   "cell_type": "code",
   "execution_count": 9,
   "id": "dd19377d",
   "metadata": {},
   "outputs": [
    {
     "name": "stdout",
     "output_type": "stream",
     "text": [
      "('praven is decent guy and RCB fan', '', '')\n"
     ]
    }
   ],
   "source": [
    "print(str3.partition('praveen'))"
   ]
  },
  {
   "cell_type": "code",
   "execution_count": 10,
   "id": "f04ef5b9",
   "metadata": {},
   "outputs": [
    {
     "name": "stdout",
     "output_type": "stream",
     "text": [
      "praven is decent guy and RCB fan\n"
     ]
    }
   ],
   "source": [
    "print(str3.replace('praveen','mahesh'))\n"
   ]
  },
  {
   "cell_type": "code",
   "execution_count": 11,
   "id": "d1026926",
   "metadata": {},
   "outputs": [
    {
     "name": "stdout",
     "output_type": "stream",
     "text": [
      "25\n",
      "-1\n"
     ]
    }
   ],
   "source": [
    "print(str3.find('RCB'))\n",
    "print(str3.find('praveen'))"
   ]
  },
  {
   "cell_type": "code",
   "execution_count": 13,
   "id": "fd114ac8",
   "metadata": {},
   "outputs": [
    {
     "name": "stdout",
     "output_type": "stream",
     "text": [
      "['praven', 'is', 'decent', 'guy', 'and', 'RCB', 'fan']\n"
     ]
    }
   ],
   "source": [
    "print(str3.split(' '))"
   ]
  },
  {
   "cell_type": "code",
   "execution_count": 24,
   "id": "0f46493e",
   "metadata": {},
   "outputs": [
    {
     "name": "stdout",
     "output_type": "stream",
     "text": [
      "Enter student name: mahi\n",
      "Enter registration number: 101\n",
      "Enter course: cs\n",
      "Enter subject 1 name: maths\n",
      "Enter maths mark: 99\n",
      "Enter subject 2 name: phy\n",
      "Enter phy mark: 99\n",
      "Enter subject 3 name: bio\n",
      "Enter bio mark: 100\n",
      "Enter subject 4 name: che\n",
      "Enter che mark: 99\n",
      "Enter subject 5 name: kan\n",
      "Enter kan mark: 100\n",
      "\n",
      "Student Details:\n",
      "Name: mahi\n",
      "Registration Number: 101\n",
      "Course: cs\n",
      "Subject Marks:\n",
      "  maths: 99.0\n",
      "  phy: 99.0\n",
      "  bio: 100.0\n",
      "  che: 99.0\n",
      "  kan: 100.0\n",
      "Total: 497.0\n",
      "Average: 99.4\n",
      "Grade: A\n"
     ]
    }
   ],
   "source": [
    "class Student:\n",
    "    def __init__(self, name, reg_no, course):\n",
    "        self.name = name\n",
    "        self.reg_no = reg_no\n",
    "        self.course = course\n",
    "        self.marks = []\n",
    "\n",
    "    def add_marks(self, subject, mark):\n",
    "        self.marks.append((subject, mark))\n",
    "\n",
    "    def calculate_total(self):\n",
    "        return sum(mark for _, mark in self.marks)\n",
    "\n",
    "    def calculate_average(self):\n",
    "        return self.calculate_total() / len(self.marks)\n",
    "\n",
    "    def calculate_grade(self):\n",
    "        average = self.calculate_average()\n",
    "        if average >= 90:\n",
    "            return 'A'\n",
    "        elif 80 <= average < 90:\n",
    "            return 'B'\n",
    "        elif 70 <= average < 80:\n",
    "            return 'C'\n",
    "        elif 60 <= average < 70:\n",
    "            return 'D'\n",
    "        else:\n",
    "            return 'F'\n",
    "\n",
    "    def display_details(self):\n",
    "        print(f\"Name: {self.name}\")\n",
    "        print(f\"Registration Number: {self.reg_no}\")\n",
    "        print(f\"Course: {self.course}\")\n",
    "        print(\"Subject Marks:\")\n",
    "        for subject, mark in self.marks:\n",
    "            print(f\"  {subject}: {mark}\")\n",
    "        print(f\"Total: {self.calculate_total()}\")\n",
    "        print(f\"Average: {self.calculate_average()}\")\n",
    "        print(f\"Grade: {self.calculate_grade()}\")\n",
    "\n",
    "\n",
    "#def main():\n",
    "    # Input student details\n",
    "    name = input(\"Enter student name: \")\n",
    "    reg_no = input(\"Enter registration number: \")\n",
    "    course = input(\"Enter course: \")\n",
    "\n",
    "    # Create a student object\n",
    "    student = Student(name, reg_no, course)\n",
    "\n",
    "    # Input subject marks\n",
    "    for i in range(5):\n",
    "        subject = input(f\"Enter subject {i + 1} name: \")\n",
    "        mark = float(input(f\"Enter {subject} mark: \"))\n",
    "        student.add_marks(subject, mark)\n",
    "\n",
    "    # Display student details\n",
    "    print(\"\\nStudent Details:\")\n",
    "    student.display_details()\n",
    "\n",
    "\n",
    "#if __name__ == \"__main__\":\n",
    "    #main()\n",
    "\n"
   ]
  },
  {
   "cell_type": "code",
   "execution_count": 18,
   "id": "cf07027c",
   "metadata": {},
   "outputs": [
    {
     "name": "stdout",
     "output_type": "stream",
     "text": [
      "SALARY PROGRAM\n",
      "Enter name of employee:radha\n",
      "enter iden of employee:101\n",
      "Enter designation of employee:web developer\n",
      "Enter Basic Salary :60000\n",
      "\n",
      "\n",
      "\n",
      "S A L A R Y D E T A I L E D B R E A K U P \n",
      "==============================================\n",
      " NAME OF EMPLOYEE :  radha\n",
      " BASIC SALARY :  60000.0\n",
      " DEARNESS ALLOW. :  15000.0\n",
      " HOUSE RENT ALLOW.:  9000.0\n",
      " TRAVEL ALLOW. :  4500.0\n",
      "==============================================\n",
      " NET SALARY PAY :  88500.0\n",
      " PROVIDENT FUND :  9000.0\n",
      "==============================================\n",
      " GROSS PAYMENT :  79500.0\n",
      "==============================================\n"
     ]
    }
   ],
   "source": [
    "print(\"SALARY PROGRAM\")\n",
    "name=str(input(\"Enter name of employee:\"))\n",
    "iden=int(input(\"enter iden of employee:\"))\n",
    "des=input(\"Enter designation of employee:\")\n",
    "basic=float(input(\"Enter Basic Salary :\"))\n",
    "da=float(basic*0.25)\n",
    "hra=float(basic*0.15)\n",
    "pf=float((basic+da)*0.12)\n",
    "ta=float(basic*0.075)\n",
    "netpay=float(basic+da+hra+ta)\n",
    "grosspay=float(netpay-pf)\n",
    "\n",
    "print(\"\\n\\n\")\n",
    "print(\"S A L A R Y D E T A I L E D B R E A K U P \")\n",
    "print(\"==============================================\")\n",
    "print(\" NAME OF EMPLOYEE : \",name)\n",
    "print(\" BASIC SALARY : \",basic)\n",
    "print(\" DEARNESS ALLOW. : \",da)\n",
    "print(\" HOUSE RENT ALLOW.: \",hra)\n",
    "print(\" TRAVEL ALLOW. : \",ta)\n",
    "print(\"==============================================\")\n",
    "print(\" NET SALARY PAY : \",netpay)\n",
    "print(\" PROVIDENT FUND : \",pf)\n",
    "print(\"==============================================\")\n",
    "print(\" GROSS PAYMENT : \",grosspay)\n",
    "print(\"==============================================\")\n"
   ]
  },
  {
   "cell_type": "code",
   "execution_count": 20,
   "id": "ed627d04",
   "metadata": {},
   "outputs": [
    {
     "name": "stdout",
     "output_type": "stream",
     "text": [
      "Enter employee ID: 101\n",
      "Enter employee name: mahi\n",
      "Enter employee designation: hacker\n",
      "Enter basic salary: 300000\n",
      "\n",
      "Employee Details:\n",
      "Employee ID: 101\n",
      "Name: mahi\n",
      "Designation: hacker\n",
      "Basic Salary: 300000.0\n",
      "Gross Salary: 345000.0\n",
      "Net Salary: 312000.0\n"
     ]
    }
   ],
   "source": [
    "class Employee:\n",
    "    def __init__(self, emp_id, name, designation, basic_salary):\n",
    "        self.emp_id = emp_id\n",
    "        self.name = name\n",
    "        self.designation = designation\n",
    "        self.basic_salary = basic_salary\n",
    "\n",
    "    def calculate_gross_salary(self):\n",
    "        da = 0.05 * self.basic_salary\n",
    "        hra = 0.10 * self.basic_salary\n",
    "        gross_salary = self.basic_salary + da + hra\n",
    "        return gross_salary\n",
    "\n",
    "    def calculate_net_salary(self):\n",
    "        da = 0.05 * self.basic_salary\n",
    "        hra = 0.10 * self.basic_salary\n",
    "        lic_deduction = 0.03 * self.basic_salary\n",
    "        pf_deduction = 0.08 * self.basic_salary\n",
    "\n",
    "        gross_salary = self.calculate_gross_salary()\n",
    "        net_salary = gross_salary - (lic_deduction + pf_deduction)\n",
    "\n",
    "        return net_salary\n",
    "\n",
    "    def display_details(self):\n",
    "        print(f\"Employee ID: {self.emp_id}\")\n",
    "        print(f\"Name: {self.name}\")\n",
    "        print(f\"Designation: {self.designation}\")\n",
    "        print(f\"Basic Salary: {self.basic_salary}\")\n",
    "        print(f\"Gross Salary: {self.calculate_gross_salary()}\")\n",
    "        print(f\"Net Salary: {self.calculate_net_salary()}\")\n",
    "\n",
    "\n",
    "def main():\n",
    "    emp_id = input(\"Enter employee ID: \")\n",
    "    name = input(\"Enter employee name: \")\n",
    "    designation = input(\"Enter employee designation: \")\n",
    "    basic_salary = float(input(\"Enter basic salary: \"))\n",
    "    employee = Employee(emp_id, name, designation, basic_salary)\n",
    "    print(\"\\nEmployee Details:\")\n",
    "    employee.display_details()\n",
    "\n",
    "\n",
    "if __name__ == \"__main__\":\n",
    "    main()\n"
   ]
  },
  {
   "cell_type": "code",
   "execution_count": null,
   "id": "1105df5a",
   "metadata": {},
   "outputs": [],
   "source": []
  },
  {
   "cell_type": "code",
   "execution_count": null,
   "id": "d63b5b46",
   "metadata": {},
   "outputs": [],
   "source": []
  }
 ],
 "metadata": {
  "kernelspec": {
   "display_name": "Python 3 (ipykernel)",
   "language": "python",
   "name": "python3"
  },
  "language_info": {
   "codemirror_mode": {
    "name": "ipython",
    "version": 3
   },
   "file_extension": ".py",
   "mimetype": "text/x-python",
   "name": "python",
   "nbconvert_exporter": "python",
   "pygments_lexer": "ipython3",
   "version": "3.9.7"
  }
 },
 "nbformat": 4,
 "nbformat_minor": 5
}
