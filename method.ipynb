{
 "cells": [
  {
   "cell_type": "code",
   "execution_count": 3,
   "id": "aa4879d6",
   "metadata": {},
   "outputs": [
    {
     "name": "stdout",
     "output_type": "stream",
     "text": [
      "10\n",
      "praeena\n",
      "14\n",
      "suresh\n",
      "18\n",
      "pravilkathuhaha\n"
     ]
    }
   ],
   "source": [
    "class sum_2:\n",
    "    def add(x,y):\n",
    "        return x+y\n",
    "class sum_3:\n",
    "    def add(x,y,z):\n",
    "        return x+y+z\n",
    "class sum_4:\n",
    "    def add(a,b,c,d):\n",
    "        return a+b+c+d\n",
    "obj1=sum_2\n",
    "obj2=sum_3\n",
    "obj3=sum_4\n",
    "print(obj1.add(6,4))\n",
    "print(obj1.add(\"pra\",\"eena\"))\n",
    "print(obj2.add(2,4,8))\n",
    "print(obj2.add(\"su\",\"re\",\"sh\"))\n",
    "print(obj3.add(9,4,3,2))\n",
    "print(obj3.add(\"pravi\",\"l\",\"kathu\",\"haha\"))"
   ]
  },
  {
   "cell_type": "code",
   "execution_count": 4,
   "id": "12c93bcf",
   "metadata": {},
   "outputs": [
    {
     "name": "stdout",
     "output_type": "stream",
     "text": [
      "30\n",
      "50\n",
      "15.2\n",
      "56.9\n",
      "27.9\n",
      "Hello*Welcome\n"
     ]
    }
   ],
   "source": [
    "from multipledispatch import dispatch\n",
    "class example:\n",
    "    @dispatch(int,int)\n",
    "    def add(self,a,b):\n",
    "        return a+b\n",
    "    @dispatch(int,int,int)\n",
    "    def add(self,a,b,c):\n",
    "        return a+b+c\n",
    "    @dispatch(float,float,float)\n",
    "    def add(self,a,b,c):\n",
    "        return a+b+c\n",
    "    @dispatch(float,float)\n",
    "    def add(self,a,b):\n",
    "        return a+b\n",
    "    @dispatch(int,float)\n",
    "    def add(self,a,b):\n",
    "        return a+b\n",
    "    @dispatch(str,str)\n",
    "    def add(self,a,b):\n",
    "        return a+b\n",
    "obj=example()\n",
    "print(obj.add(20,10))\n",
    "print(obj.add(40,6,4))\n",
    "print(obj.add(6.5,1.0,7.7))\n",
    "print(obj.add(50.5,6.4))\n",
    "print(obj.add(20,7.9))\n",
    "print(obj.add(\"Hello*\",\"Welcome\"))\n",
    "    "
   ]
  },
  {
   "cell_type": "code",
   "execution_count": 5,
   "id": "46fb1c9d",
   "metadata": {},
   "outputs": [
    {
     "name": "stdout",
     "output_type": "stream",
     "text": [
      "30\n",
      "Hello*Welcome\n",
      "30\n",
      "6\n"
     ]
    }
   ],
   "source": [
    "class sum_1:\n",
    "    def add(self,a=None,b=None,c=None):\n",
    "        s=0\n",
    "        if a!=None and b!=None and c!=None:\n",
    "            s=a+b+c\n",
    "            return s\n",
    "        elif a!=None and b!=None:\n",
    "            s=a+b\n",
    "            return a+b\n",
    "        else:\n",
    "            return a\n",
    "obj=sum_1()\n",
    "print(obj.add(20,10))\n",
    "print(obj.add(\"Hello*\",\"Welcome\"))\n",
    "print(obj.add(6,4,20))\n",
    "print(obj.add(6))        "
   ]
  },
  {
   "cell_type": "code",
   "execution_count": 6,
   "id": "d651a614",
   "metadata": {},
   "outputs": [],
   "source": [
    "class sum_2:\n",
    "    def add(x,y):\n",
    "        return x+y"
   ]
  },
  {
   "cell_type": "code",
   "execution_count": 7,
   "id": "5d549896",
   "metadata": {},
   "outputs": [],
   "source": [
    "class sum_3:\n",
    "    def add(x,y,z):\n",
    "        return x+y+z"
   ]
  },
  {
   "cell_type": "code",
   "execution_count": 8,
   "id": "cfb21f2b",
   "metadata": {},
   "outputs": [],
   "source": [
    "class sum_4:\n",
    "    def add(a,b,c,d):\n",
    "        return a+b+c+d"
   ]
  },
  {
   "cell_type": "code",
   "execution_count": 9,
   "id": "9fcfdb23",
   "metadata": {},
   "outputs": [
    {
     "name": "stdout",
     "output_type": "stream",
     "text": [
      "10\n",
      "praeena\n"
     ]
    }
   ],
   "source": [
    "obj1=sum_2\n",
    "print(obj1.add(6,4))\n",
    "print(obj1.add(\"pra\",\"eena\"))"
   ]
  },
  {
   "cell_type": "code",
   "execution_count": 10,
   "id": "438e802d",
   "metadata": {},
   "outputs": [
    {
     "name": "stdout",
     "output_type": "stream",
     "text": [
      "10\n",
      "praeena\n"
     ]
    }
   ],
   "source": [
    "class sum_2:\n",
    "    def add(x,y):\n",
    "        return x+y\n",
    "obj1=sum_2\n",
    "print(obj1.add(6,4))\n",
    "print(obj1.add(\"pra\",\"eena\"))    "
   ]
  },
  {
   "cell_type": "code",
   "execution_count": 21,
   "id": "44f567fa",
   "metadata": {},
   "outputs": [
    {
     "name": "stdout",
     "output_type": "stream",
     "text": [
      "In speech of Barak obama\n",
      "Words:  2400\n",
      "Lines:  66\n",
      "Characters:  13342\n",
      "\n",
      "In speech of michelle obama\n",
      "Words:  2204\n",
      "Lines:  83\n",
      "Characters:  11789\n",
      "\n",
      "In speech of donald trump\n",
      "Words:  1259\n",
      "Lines:  48\n",
      "Characters:  7276\n"
     ]
    }
   ],
   "source": [
    "def countWords(fileName):\n",
    "    numwords = 0\n",
    "    numchars = 0\n",
    "    numlines = 0\n",
    "\n",
    "    with open(fileName, 'r') as file:\n",
    "        for line in file:\n",
    "            wordlist = line.split()\n",
    "            numlines += 1\n",
    "            numwords += len(wordlist)\n",
    "            numchars += len(line)\n",
    "\n",
    "    print (\"Words: \", numwords)\n",
    "    print (\"Lines: \", numlines)\n",
    "    print (\"Characters: \", numchars)\n",
    "\n",
    "if __name__==\"__main__\":    \n",
    "    print('In speech of Barak obama')\n",
    "    countWords('def analyze_text_file(fname):\n",
    "\n",
    "\n",
    "\tnum_words = 0\n",
    "\n",
    "\n",
    "\tnum_lines = 0\n",
    "\n",
    "\n",
    "\tnum_charc = 0\n",
    "\n",
    "\n",
    "\tnum_spaces = 0\n",
    "\n",
    "\n",
    "\twith open(fname, 'r') as f:\n",
    "\n",
    "\n",
    "\t\tfor line in f:\n",
    "\n",
    "\n",
    "\t\t\tnum_lines = num_lines+1\n",
    "\n",
    "\t\t\t# declaring a variable word and assigning its value as Y\n",
    "\t\t\t# because every file is supposed to start with a word or a character\n",
    "\t\t\tword = 'Y'\n",
    "\n",
    "\t\t\t# loop to iterate every\n",
    "\t\t\t# line letter by letter\n",
    "\t\t\tfor letter in line:\n",
    "\n",
    "\t\t\t\t# condition to check that the encountered character\n",
    "\t\t\t\t# is not white space and a word\n",
    "\t\t\t\tif (letter != ' ' and word == 'Y'):\n",
    "\n",
    "\t\t\t\t\t# incrementing the word\n",
    "\t\t\t\t\t# count by 1\n",
    "\t\t\t\t\tnum_words += 1\n",
    "\n",
    "\t\t\t\t\t# assigning value N to variable word because until\n",
    "\t\t\t\t\t# space will not encounter a word can not be completed\n",
    "\t\t\t\t\tword = 'N'\n",
    "\n",
    "\t\t\t\t# condition to check that the encountered character is a white space\n",
    "\t\t\t\telif (letter == ' '):\n",
    "\n",
    "\t\t\t\t\t# incrementing the space\n",
    "\t\t\t\t\t# count by 1\n",
    "\t\t\t\t\tnum_spaces += 1\n",
    "\n",
    "\t\t\t\t\t# assigning value Y to variable word because after\n",
    "\t\t\t\t\t# white space a word is supposed to occur\n",
    "\t\t\t\t\tword = 'Y'\n",
    "\n",
    "\t\t\t\t# loop to iterate every character\n",
    "\t\t\t\tfor i in letter:\n",
    "\n",
    "\t\t\t\t\t# condition to check white space\n",
    "\t\t\t\t\tif(i !=\" \" and i !=\"\\n\" ):\n",
    "\n",
    "\t\t\t\t\t\t# incrementing character\n",
    "\t\t\t\t\t\t# count by 1\n",
    "\t\t\t\t\t\tnum_charc += 1\n",
    "\n",
    "\n",
    "\tprint(\"Number of words in text file: \",\t\tnum_words)\n",
    "\n",
    "\n",
    "\tprint(\"Number of lines in text file: \",\t\tnum_lines)\n",
    "\n",
    "\n",
    "\tprint('Number of characters in text file: ',\t\tnum_charc)\n",
    "\n",
    "\n",
    "\tprint('Number of spaces in text file: ',\t\tnum_spaces)\n",
    "\n",
    "# Driver Code:\n",
    "if __name__ == '__main__':\n",
    "\tfname = 'speech_barack_obama.txt'\n",
    "\ttry:\n",
    "\t\tanalyze_text_file(fname)\n",
    "\texcept:\n",
    "\t\tprint('File not found')\n",
    "')\n",
    "    print('\\nIn speech of michelle obama')\n",
    "    countWords('D:\\mahesh poojari\\speech_michelle_obama.txt')\n",
    "    print('\\nIn speech of donald trump')\n",
    "    countWords('D:\\mahesh poojari\\speech_donald_trump.txt')\n",
    "    "
   ]
  },
  {
   "cell_type": "code",
   "execution_count": 46,
   "id": "14223a37",
   "metadata": {},
   "outputs": [
    {
     "name": "stdout",
     "output_type": "stream",
     "text": [
      "Number of words in text file:  2245\n",
      "Number of lines in text file:  83\n",
      "Number of characters in text file:  9545\n",
      "Number of spaces in text file:  2162\n"
     ]
    }
   ],
   "source": [
    "def analyze_text_file(fname):\n",
    "\n",
    "\n",
    "\tnum_words = 0\n",
    "\n",
    "\n",
    "\tnum_lines = 0\n",
    "\n",
    "\n",
    "\tnum_charc = 0\n",
    "\n",
    "\n",
    "\tnum_spaces = 0\n",
    "\n",
    "\n",
    "\twith open(fname, 'r') as f:\n",
    "\n",
    "\n",
    "\t\tfor line in f:\n",
    "\n",
    "\n",
    "\t\t\tnum_lines = num_lines+1\n",
    "\n",
    "\t\t\t# declaring a variable word and assigning its value as Y\n",
    "\t\t\t# because every file is supposed to start with a word or a character\n",
    "\t\t\tword = 'Y'\n",
    "\n",
    "\t\t\t# loop to iterate every\n",
    "\t\t\t# line letter by letter\n",
    "\t\t\tfor letter in line:\n",
    "\n",
    "\t\t\t\t# condition to check that the encountered character\n",
    "\t\t\t\t# is not white space and a word\n",
    "\t\t\t\tif (letter != ' ' and word == 'Y'):\n",
    "\n",
    "\t\t\t\t\t# incrementing the word\n",
    "\t\t\t\t\t# count by 1\n",
    "\t\t\t\t\tnum_words += 1\n",
    "\n",
    "\t\t\t\t\t# assigning value N to variable word because until\n",
    "\t\t\t\t\t# space will not encounter a word can not be completed\n",
    "\t\t\t\t\tword = 'N'\n",
    "\n",
    "\t\t\t\t# condition to check that the encountered character is a white space\n",
    "\t\t\t\telif (letter == ' '):\n",
    "\n",
    "\t\t\t\t\t# incrementing the space\n",
    "\t\t\t\t\t# count by 1\n",
    "\t\t\t\t\tnum_spaces += 1\n",
    "\n",
    "\t\t\t\t\t# assigning value Y to variable word because after\n",
    "\t\t\t\t\t# white space a word is supposed to occur\n",
    "\t\t\t\t\tword = 'Y'\n",
    "\n",
    "\t\t\t\t# loop to iterate every character\n",
    "\t\t\t\tfor i in letter:\n",
    "\n",
    "\t\t\t\t\t# condition to check white space\n",
    "\t\t\t\t\tif(i !=\" \" and i !=\"\\n\" ):\n",
    "\n",
    "\t\t\t\t\t\t# incrementing character\n",
    "\t\t\t\t\t\t# count by 1\n",
    "\t\t\t\t\t\tnum_charc += 1\n",
    "\n",
    "\n",
    "\tprint(\"Number of words in text file: \",\t\tnum_words)\n",
    "\n",
    "\n",
    "\tprint(\"Number of lines in text file: \",\t\tnum_lines)\n",
    "\n",
    "\n",
    "\tprint('Number of characters in text file: ',\t\tnum_charc)\n",
    "\n",
    "\n",
    "\tprint('Number of spaces in text file: ',\t\tnum_spaces)\n",
    "\n",
    "# Driver Code:\n",
    "if __name__ == '__main__':\n",
    "\tfname = 'D:\\mahesh poojari\\speech_michelle_obama.txt'\n",
    "\ttry:\n",
    "\t\tanalyze_text_file(fname)\n",
    "\texcept:\n",
    "\t\tprint('File not found')\n"
   ]
  },
  {
   "cell_type": "code",
   "execution_count": null,
   "id": "983898a2",
   "metadata": {},
   "outputs": [],
   "source": []
  }
 ],
 "metadata": {
  "kernelspec": {
   "display_name": "Python 3 (ipykernel)",
   "language": "python",
   "name": "python3"
  },
  "language_info": {
   "codemirror_mode": {
    "name": "ipython",
    "version": 3
   },
   "file_extension": ".py",
   "mimetype": "text/x-python",
   "name": "python",
   "nbconvert_exporter": "python",
   "pygments_lexer": "ipython3",
   "version": "3.9.7"
  }
 },
 "nbformat": 4,
 "nbformat_minor": 5
}
