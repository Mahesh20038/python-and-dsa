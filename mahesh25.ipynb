{
 "cells": [
  {
   "cell_type": "code",
   "execution_count": 1,
   "id": "eef1c8f3",
   "metadata": {},
   "outputs": [
    {
     "name": "stdout",
     "output_type": "stream",
     "text": [
      "maheshram\n"
     ]
    }
   ],
   "source": [
    "a=\"mahesh\"\n",
    "b=\"ram\"\n",
    "c=a+b\n",
    "print(c)"
   ]
  },
  {
   "cell_type": "code",
   "execution_count": 3,
   "id": "8321b424",
   "metadata": {},
   "outputs": [
    {
     "name": "stdout",
     "output_type": "stream",
     "text": [
      "enter first name mahesh \n",
      "enter second name ram \n",
      "mahesh ram \n"
     ]
    }
   ],
   "source": [
    "a=input(\"enter first name \")\n",
    "b=input(\"enter second name \")\n",
    "c=a + b\n",
    "print(c)"
   ]
  },
  {
   "cell_type": "code",
   "execution_count": 4,
   "id": "16e3782f",
   "metadata": {},
   "outputs": [
    {
     "name": "stdout",
     "output_type": "stream",
     "text": [
      "enter first digit 444\n",
      "enter second digit 343\n",
      "101\n"
     ]
    }
   ],
   "source": [
    "a=int(input(\"enter first digit \"))\n",
    "b=int(input(\"enter second digit \"))\n",
    "c=a-b\n",
    "print(c)\n"
   ]
  },
  {
   "cell_type": "code",
   "execution_count": 6,
   "id": "8f3b3cdf",
   "metadata": {},
   "outputs": [
    {
     "name": "stdout",
     "output_type": "stream",
     "text": [
      "enter first digit 234.24\n",
      "enter second digit 345.99\n",
      "81044.6976\n"
     ]
    }
   ],
   "source": [
    "a=float(input(\"enter first digit \"))\n",
    "b=float(input(\"enter second digit \"))\n",
    "c=a*b\n",
    "print(c)\n"
   ]
  },
  {
   "cell_type": "code",
   "execution_count": 7,
   "id": "d5098b5b",
   "metadata": {},
   "outputs": [
    {
     "name": "stdout",
     "output_type": "stream",
     "text": [
      "enter first digit 1+4j\n",
      "enter second digit 2+6j\n",
      "(3+10j)\n"
     ]
    }
   ],
   "source": [
    "a=complex(input(\"enter first digit \"))\n",
    "b=complex(input(\"enter second digit \"))\n",
    "c=a+b\n",
    "print(c)\n"
   ]
  },
  {
   "cell_type": "code",
   "execution_count": 10,
   "id": "95e7753a",
   "metadata": {},
   "outputs": [
    {
     "name": "stdout",
     "output_type": "stream",
     "text": [
      "b is greater than a\n"
     ]
    }
   ],
   "source": [
    "a=444\n",
    "b=777\n",
    "if b>a:\n",
    "    print(\"b is greater than a\")"
   ]
  },
  {
   "cell_type": "code",
   "execution_count": 19,
   "id": "0adf53fe",
   "metadata": {},
   "outputs": [
    {
     "name": "stdout",
     "output_type": "stream",
     "text": [
      "pravin  c\n",
      "p n\n",
      "p\n",
      "r\n",
      "a\n",
      "v\n",
      "i\n",
      "n\n",
      " \n",
      " \n",
      "c\n"
     ]
    }
   ],
   "source": [
    "a=\"pravin  c\"\n",
    "print(a)\n",
    "print(a[0],a[5])\n",
    "for x in a:\n",
    "    print(x)\n",
    "    "
   ]
  },
  {
   "cell_type": "code",
   "execution_count": 16,
   "id": "28162b18",
   "metadata": {},
   "outputs": [
    {
     "name": "stdout",
     "output_type": "stream",
     "text": [
      "pravin loves ammu\n",
      "17\n",
      "pravin loves ammu\n"
     ]
    }
   ],
   "source": [
    "a=input()\n",
    "print(len(a))\n",
    "print(a)"
   ]
  },
  {
   "cell_type": "code",
   "execution_count": 21,
   "id": "dfc7eeea",
   "metadata": {},
   "outputs": [
    {
     "name": "stdout",
     "output_type": "stream",
     "text": [
      "mahesh is a good person\n",
      "good\n",
      "yes he has crush on her\n"
     ]
    }
   ],
   "source": [
    "a=input()\n",
    "b=input()\n",
    "if b in a:\n",
    "    print(\"yes he has crush on her\")"
   ]
  },
  {
   "cell_type": "code",
   "execution_count": 23,
   "id": "bb18a771",
   "metadata": {},
   "outputs": [
    {
     "name": "stdout",
     "output_type": "stream",
     "text": [
      "suresh is hacker\n",
      "suresh\n",
      "yes pravin is good guy\n"
     ]
    }
   ],
   "source": [
    "a=input()\n",
    "b=input()\n",
    "if b in a:\n",
    "    print(\"yes pravin is good guy\")\n",
    "else:\n",
    "    print(\"no pravin is bad guy\")\n",
    "    "
   ]
  },
  {
   "cell_type": "code",
   "execution_count": 26,
   "id": "ff6e1eb2",
   "metadata": {},
   "outputs": [
    {
     "name": "stdout",
     "output_type": "stream",
     "text": [
      "mahesh\n",
      "s\n",
      "mah\n",
      "sh\n"
     ]
    }
   ],
   "source": [
    "a=input()\n",
    "print(a[4:5])\n",
    "print(a[:3])\n",
    "print(a[4:6])"
   ]
  },
  {
   "cell_type": "code",
   "execution_count": 27,
   "id": "ed4886e7",
   "metadata": {},
   "outputs": [
    {
     "name": "stdout",
     "output_type": "stream",
     "text": [
      " PRAVIN S \n",
      " pravin s \n",
      "['pravin', 's']\n",
      "pravin s\n",
      " nravin s \n"
     ]
    }
   ],
   "source": [
    "a=\" pravin s \"\n",
    "print(a.upper())\n",
    "print(a.lower())\n",
    "print(a.split())\n",
    "print(a.strip())\n",
    "print(a.replace('p','n'))"
   ]
  },
  {
   "cell_type": "code",
   "execution_count": 32,
   "id": "32b8ce0f",
   "metadata": {},
   "outputs": [
    {
     "name": "stdout",
     "output_type": "stream",
     "text": [
      "name:pravin\n",
      "age:21\n",
      "palce:puttur\n",
      "pravin is 21 year old and he is  from puttur \n"
     ]
    }
   ],
   "source": [
    "name=input(\"name:\")\n",
    "age=input(\"age:\")\n",
    "place=input(\"palce:\")\n",
    "str=\"{} is {} year old and he is  from {} \"\n",
    "print(str.format(name,age,place))"
   ]
  },
  {
   "cell_type": "code",
   "execution_count": 35,
   "id": "ee90f0e5",
   "metadata": {},
   "outputs": [
    {
     "name": "stdout",
     "output_type": "stream",
     "text": [
      "1\n",
      "2.8\n",
      "(1+0j)\n"
     ]
    }
   ],
   "source": [
    "x = 1\n",
    "y = 2.8\n",
    "z = 1j\n",
    "a = int(x)\n",
    "b = float(y)\n",
    "c = complex(x)\n",
    "print(a)\n",
    "print(b)\n",
    "print(c)\n",
    "\n"
   ]
  },
  {
   "cell_type": "code",
   "execution_count": 37,
   "id": "aa2d54ae",
   "metadata": {},
   "outputs": [
    {
     "name": "stdout",
     "output_type": "stream",
     "text": [
      "0.6666666666666666\n"
     ]
    }
   ],
   "source": [
    "x=2\n",
    "y=3\n",
    "print(x/y)\n"
   ]
  },
  {
   "cell_type": "code",
   "execution_count": 43,
   "id": "d76309e1",
   "metadata": {},
   "outputs": [
    {
     "name": "stdout",
     "output_type": "stream",
     "text": [
      "2\n",
      "5\n",
      "32 7 0.4 -3\n"
     ]
    }
   ],
   "source": [
    "a=int(input())\n",
    "b=int(input())\n",
    "c=a**b\n",
    "d=a+b\n",
    "e=a/b\n",
    "f=a-b\n",
    "print(c,d,e,f)"
   ]
  },
  {
   "cell_type": "code",
   "execution_count": null,
   "id": "859d2746",
   "metadata": {},
   "outputs": [],
   "source": []
  },
  {
   "cell_type": "code",
   "execution_count": null,
   "id": "55dd9d0e",
   "metadata": {},
   "outputs": [],
   "source": []
  }
 ],
 "metadata": {
  "kernelspec": {
   "display_name": "Python 3 (ipykernel)",
   "language": "python",
   "name": "python3"
  },
  "language_info": {
   "codemirror_mode": {
    "name": "ipython",
    "version": 3
   },
   "file_extension": ".py",
   "mimetype": "text/x-python",
   "name": "python",
   "nbconvert_exporter": "python",
   "pygments_lexer": "ipython3",
   "version": "3.9.7"
  }
 },
 "nbformat": 4,
 "nbformat_minor": 5
}
