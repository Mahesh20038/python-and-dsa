{
 "cells": [
  {
   "cell_type": "code",
   "execution_count": 1,
   "id": "49162eed",
   "metadata": {},
   "outputs": [
    {
     "name": "stdout",
     "output_type": "stream",
     "text": [
      "apple\n",
      "banana\n",
      "cherry\n"
     ]
    }
   ],
   "source": [
    "mytuple=(\"apple\",\"banana\",\"cherry\")\n",
    "myit=iter(mytuple)\n",
    "print(next(myit))\n",
    "print(next(myit))\n",
    "print(next(myit))\n",
    "\n"
   ]
  },
  {
   "cell_type": "code",
   "execution_count": 3,
   "id": "c173d785",
   "metadata": {},
   "outputs": [
    {
     "name": "stdout",
     "output_type": "stream",
     "text": [
      "576 33 10 4113\n"
     ]
    }
   ],
   "source": [
    "a=0o1100\n",
    "b=33\n",
    "c=0b1010\n",
    "d=0x1011\n",
    "print(a,b,c,d)"
   ]
  },
  {
   "cell_type": "code",
   "execution_count": 4,
   "id": "c86e6db7",
   "metadata": {},
   "outputs": [
    {
     "name": "stdout",
     "output_type": "stream",
     "text": [
      "area of circle\n",
      "enter the radius of circle4\n",
      "area of circle 50.26548245743669\n"
     ]
    }
   ],
   "source": [
    "import math\n",
    "print(\"area of circle\")\n",
    "r=float(input(\"enter the radius of circle\"))\n",
    "a=math.pi*r*r\n",
    "print(\"area of circle\",a)"
   ]
  },
  {
   "cell_type": "code",
   "execution_count": 8,
   "id": "dde722c7",
   "metadata": {},
   "outputs": [
    {
     "name": "stdout",
     "output_type": "stream",
     "text": [
      "area of triangle\n",
      "enter the height of triangle 10\n",
      "enter the base of tringle9\n",
      "area of triangle 45.0\n"
     ]
    }
   ],
   "source": [
    "print(\"area of triangle\")\n",
    "h=float(input(\"enter the height of triangle \"))\n",
    "b=float(input(\"enter the base of tringle\" ))\n",
    "a=(1/2)*h*b\n",
    "print(\"area of triangle\",a)"
   ]
  },
  {
   "cell_type": "code",
   "execution_count": 9,
   "id": "7a188407",
   "metadata": {},
   "outputs": [
    {
     "name": "stdout",
     "output_type": "stream",
     "text": [
      "area of rectangle\n",
      "enter the length of triangle 23\n",
      "enter the bredth of tringle 45\n",
      "area of rectangle 1035.0\n"
     ]
    }
   ],
   "source": [
    "print(\"area of rectangle\")\n",
    "l=float(input(\"enter the length of triangle \"))\n",
    "b=float(input(\"enter the bredth of tringle \" ))\n",
    "a=l*b\n",
    "print(\"area of rectangle\",a)"
   ]
  },
  {
   "cell_type": "code",
   "execution_count": 12,
   "id": "ecdeface",
   "metadata": {},
   "outputs": [
    {
     "name": "stdout",
     "output_type": "stream",
     "text": [
      " circle\n",
      "enter the radius of circle4\n",
      "area of circle 50.26548245743669\n",
      "triangle\n",
      "enter the height of triangle 10\n",
      "enter the base of triangle9\n",
      "area of triangle 45.0\n",
      "rectangle\n",
      "enter the length of Rectangle 23\n",
      "enter the bredth of Rectangle 45\n",
      "area of rectangle 1035.0\n"
     ]
    }
   ],
   "source": [
    "import math\n",
    "print(\" circle\")\n",
    "r=float(input(\"enter the radius of circle\"))\n",
    "a=math.pi*r*r\n",
    "print(\"area of circle\",a)\n",
    "print(\"triangle\")\n",
    "h=float(input(\"enter the height of triangle \"))\n",
    "b=float(input(\"enter the base of triangle\" ))\n",
    "a=(1/2)*h*b\n",
    "print(\"area of triangle\",a)\n",
    "print(\"rectangle\")\n",
    "l=float(input(\"enter the length of Rectangle \"))\n",
    "b=float(input(\"enter the bredth of Rectangle \" ))\n",
    "a=l*b\n",
    "print(\"area of rectangle\",a)\n",
    "\n",
    "\n"
   ]
  },
  {
   "cell_type": "code",
   "execution_count": 14,
   "id": "93748f70",
   "metadata": {},
   "outputs": [
    {
     "name": "stdout",
     "output_type": "stream",
     "text": [
      "circle\n",
      "enter the radius of circle10\n",
      " perimeter of circle 62.83185307179586\n"
     ]
    }
   ],
   "source": [
    "import math\n",
    "print(\"circle\")\n",
    "r=float(input(\"enter the radius of circle\"))\n",
    "a=2*math.pi*r\n",
    "print(\" perimeter of circle\",a)"
   ]
  },
  {
   "cell_type": "code",
   "execution_count": 15,
   "id": "f53efe79",
   "metadata": {},
   "outputs": [
    {
     "name": "stdout",
     "output_type": "stream",
     "text": [
      "area of triangle\n",
      "enter the left side of triangle 4\n",
      "enter the base of triangle 7\n",
      "enter the right side of tringle7\n",
      "perimeter of triangle 18.0\n"
     ]
    }
   ],
   "source": [
    "print(\"area of triangle\")\n",
    "p=float(input(\"enter the left side of triangle \"))\n",
    "q=float(input(\"enter the base of triangle \"))\n",
    "r=float(input(\"enter the right side of tringle\" ))\n",
    "d=p+q+r\n",
    "print(\"perimeter of triangle\",d)"
   ]
  },
  {
   "cell_type": "code",
   "execution_count": 16,
   "id": "e7ce23c3",
   "metadata": {},
   "outputs": [
    {
     "name": "stdout",
     "output_type": "stream",
     "text": [
      "area of rectangle\n",
      "enter the length of triangle 23\n",
      "enter the width of tringle 32\n",
      "area of rectangle 110.0\n"
     ]
    }
   ],
   "source": [
    "print(\"area of rectangle\")\n",
    "l=float(input(\"enter the length of triangle \"))\n",
    "w=float(input(\"enter the width of tringle \" ))\n",
    "a=2*(l+w)\n",
    "print(\"area of rectangle\",a)"
   ]
  },
  {
   "cell_type": "code",
   "execution_count": 19,
   "id": "8849b444",
   "metadata": {},
   "outputs": [
    {
     "name": "stdout",
     "output_type": "stream",
     "text": [
      "Enter the radius of circle :3\n",
      "The area of circle is : 28.259999999999998\n",
      "Enter the base of triangle :33\n",
      "Enter the height of triangle :3\n",
      "The area of circle is : 49.5\n",
      "Enter the base of rectangle :2\n",
      "Enter the height of rectangle :34\n",
      "The area of rectangle is : 68.0\n"
     ]
    }
   ],
   "source": [
    "def circle_area(r):\n",
    "    pi=3.14\n",
    "    area_circle=pi*r*r\n",
    "    return area_circle\n",
    "\n",
    "def triangle_area(b,h):\n",
    "    area_triangle=.5*b*h\n",
    "    return area_triangle\n",
    "\n",
    "def rectangle_area(B,H):\n",
    "    area_rectangle=B*H\n",
    "    return area_rectangle\n",
    "   \n",
    "\n",
    "\n",
    "\n",
    "r=float(input(\"Enter the radius of circle :\"))\n",
    "print(\"The area of circle is :\",circle_area(r))\n",
    "b=float(input(\"Enter the base of triangle :\"))\n",
    "h=float(input(\"Enter the height of triangle :\"))\n",
    "print(\"The area of circle is :\",triangle_area(b,h))\n",
    "B=float(input(\"Enter the base of rectangle :\"))\n",
    "H=float(input(\"Enter the height of rectangle :\"))\n",
    "print(\"The area of rectangle is :\",rectangle_area(B,H))"
   ]
  },
  {
   "cell_type": "code",
   "execution_count": 35,
   "id": "b919f551",
   "metadata": {},
   "outputs": [
    {
     "name": "stdout",
     "output_type": "stream",
     "text": [
      "vowels occured pravin like c and he is  good boy and he also like k and b \n",
      "17\n",
      "['a', 'i', 'i', 'e', 'a', 'e', 'i', 'o', 'o', 'o', 'a', 'e', 'a', 'o', 'i', 'e', 'a']\n",
      "5\n",
      "['a', 'a', 'a', 'a', 'a']\n",
      "4\n",
      "['i', 'i', 'i', 'i']\n",
      "4\n",
      "['o', 'o', 'o', 'o']\n",
      "4\n",
      "['e', 'e', 'e', 'e']\n",
      "0\n",
      "[]\n"
     ]
    }
   ],
   "source": [
    "def Check_Vow(string, vowels):\n",
    "    final = [each for each in string if each in vowels]\n",
    "    print(len(final))\n",
    "    print(final)\n",
    "string = \"pravin like c and he is  good boy and he also like k and b \"\n",
    "print(\"vowels occured\",string)\n",
    "vowels = \"AaEeIiOoUu\"\n",
    "a=\"Aa\"\n",
    "d=\"Ii\"\n",
    "w=\"Oo\"\n",
    "r=\"Ee\"\n",
    "p=\"Uu\"\n",
    "Check_Vow(string, vowels);\n",
    "Check_Vow(string, a);\n",
    "Check_Vow(string, d);\n",
    "Check_Vow(string, w);\n",
    "Check_Vow(string, r);\n",
    "Check_Vow(string, p);\n"
   ]
  },
  {
   "cell_type": "code",
   "execution_count": 1,
   "id": "94d428df",
   "metadata": {},
   "outputs": [],
   "source": [
    "def Check_Vow(string, vowels):\n",
    "    final = [each for each in string if each in vowels]\n",
    "    #print(\"# of  string\",len(final))\n",
    "    return len(final)\n",
    "\n"
   ]
  },
  {
   "cell_type": "code",
   "execution_count": null,
   "id": "7a1a7a9d",
   "metadata": {},
   "outputs": [],
   "source": []
  },
  {
   "cell_type": "code",
   "execution_count": 2,
   "id": "1b5802bb",
   "metadata": {},
   "outputs": [
    {
     "name": "stdout",
     "output_type": "stream",
     "text": [
      "vowels occured pravin like c and he is  good boy and he also like k and b \n"
     ]
    }
   ],
   "source": [
    "string = \"pravin like c and he is  good boy and he also like k and b \"\n",
    "print(\"vowels occured\",string)\n",
    "vowels = \"AaEeIiOoUu\"\n",
    "a=\"Aa\"\n",
    "d=\"Ii\"\n",
    "w=\"Oo\"\n",
    "r=\"Ee\"\n",
    "p=\"Uu\"\n"
   ]
  },
  {
   "cell_type": "code",
   "execution_count": 3,
   "id": "f74f35d1",
   "metadata": {},
   "outputs": [
    {
     "data": {
      "text/plain": [
       "5"
      ]
     },
     "execution_count": 3,
     "metadata": {},
     "output_type": "execute_result"
    }
   ],
   "source": [
    "Check_Vow(string, a)\n"
   ]
  },
  {
   "cell_type": "code",
   "execution_count": 5,
   "id": "294f5076",
   "metadata": {},
   "outputs": [
    {
     "name": "stdout",
     "output_type": "stream",
     "text": [
      "number of vowels in string 5\n"
     ]
    }
   ],
   "source": [
    "print(\"number of vowels in string\",Check_Vow(string, a))\n",
    "\n",
    "# #Check_Vow(string, a);\n",
    "# #Check_Vow(string, d);\n",
    "# #Check_Vow(string, w);\n",
    "# #Check_Vow(string, r);\n",
    "# Check_Vow(string, p);"
   ]
  },
  {
   "cell_type": "code",
   "execution_count": 56,
   "id": "b41f99e3",
   "metadata": {},
   "outputs": [
    {
     "name": "stdout",
     "output_type": "stream",
     "text": [
      "0\n"
     ]
    }
   ],
   "source": [
    "Check_Vow(string, );"
   ]
  },
  {
   "cell_type": "code",
   "execution_count": null,
   "id": "6188a530",
   "metadata": {},
   "outputs": [],
   "source": []
  }
 ],
 "metadata": {
  "kernelspec": {
   "display_name": "Python 3 (ipykernel)",
   "language": "python",
   "name": "python3"
  },
  "language_info": {
   "codemirror_mode": {
    "name": "ipython",
    "version": 3
   },
   "file_extension": ".py",
   "mimetype": "text/x-python",
   "name": "python",
   "nbconvert_exporter": "python",
   "pygments_lexer": "ipython3",
   "version": "3.9.7"
  }
 },
 "nbformat": 4,
 "nbformat_minor": 5
}
