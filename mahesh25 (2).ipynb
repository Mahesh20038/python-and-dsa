{
 "cells": [
  {
   "cell_type": "code",
   "execution_count": 1,
   "id": "011ac44f",
   "metadata": {},
   "outputs": [
    {
     "name": "stdout",
     "output_type": "stream",
     "text": [
      "maheshram\n"
     ]
    }
   ],
   "source": [
    "a=\"mahesh\"\n",
    "b=\"ram\"\n",
    "c=a+b\n",
    "print(c)"
   ]
  },
  {
   "cell_type": "code",
   "execution_count": 3,
   "id": "ae1b7d87",
   "metadata": {},
   "outputs": [
    {
     "name": "stdout",
     "output_type": "stream",
     "text": [
      "enter first name mahesh \n",
      "enter second name ram \n",
      "mahesh ram \n"
     ]
    }
   ],
   "source": [
    "a=input(\"enter first name \")\n",
    "b=input(\"enter second name \")\n",
    "c=a + b\n",
    "print(c)"
   ]
  },
  {
   "cell_type": "code",
   "execution_count": 4,
   "id": "e51d4d74",
   "metadata": {},
   "outputs": [
    {
     "name": "stdout",
     "output_type": "stream",
     "text": [
      "enter first digit 444\n",
      "enter second digit 343\n",
      "101\n"
     ]
    }
   ],
   "source": [
    "a=int(input(\"enter first digit \"))\n",
    "b=int(input(\"enter second digit \"))\n",
    "c=a-b\n",
    "print(c)\n"
   ]
  },
  {
   "cell_type": "code",
   "execution_count": 6,
   "id": "7ca214de",
   "metadata": {},
   "outputs": [
    {
     "name": "stdout",
     "output_type": "stream",
     "text": [
      "enter first digit 234.24\n",
      "enter second digit 345.99\n",
      "81044.6976\n"
     ]
    }
   ],
   "source": [
    "a=float(input(\"enter first digit \"))\n",
    "b=float(input(\"enter second digit \"))\n",
    "c=a*b\n",
    "print(c)\n"
   ]
  },
  {
   "cell_type": "code",
   "execution_count": 7,
   "id": "a55faf20",
   "metadata": {},
   "outputs": [
    {
     "name": "stdout",
     "output_type": "stream",
     "text": [
      "enter first digit 1+4j\n",
      "enter second digit 2+6j\n",
      "(3+10j)\n"
     ]
    }
   ],
   "source": [
    "a=complex(input(\"enter first digit \"))\n",
    "b=complex(input(\"enter second digit \"))\n",
    "c=a+b\n",
    "print(c)\n"
   ]
  },
  {
   "cell_type": "code",
   "execution_count": 10,
   "id": "da87b967",
   "metadata": {},
   "outputs": [
    {
     "name": "stdout",
     "output_type": "stream",
     "text": [
      "b is greater than a\n"
     ]
    }
   ],
   "source": [
    "a=444\n",
    "b=777\n",
    "if b>a:\n",
    "    print(\"b is greater than a\")"
   ]
  },
  {
   "cell_type": "code",
   "execution_count": 19,
   "id": "8e968bc4",
   "metadata": {},
   "outputs": [
    {
     "name": "stdout",
     "output_type": "stream",
     "text": [
      "pravin  c\n",
      "p n\n",
      "p\n",
      "r\n",
      "a\n",
      "v\n",
      "i\n",
      "n\n",
      " \n",
      " \n",
      "c\n"
     ]
    }
   ],
   "source": [
    "a=\"pravin  c\"\n",
    "print(a)\n",
    "print(a[0],a[5])\n",
    "for x in a:\n",
    "    print(x)\n",
    "    "
   ]
  },
  {
   "cell_type": "code",
   "execution_count": 16,
   "id": "444192ae",
   "metadata": {},
   "outputs": [
    {
     "name": "stdout",
     "output_type": "stream",
     "text": [
      "pravin loves ammu\n",
      "17\n",
      "pravin loves ammu\n"
     ]
    }
   ],
   "source": [
    "a=input()\n",
    "print(len(a))\n",
    "print(a)"
   ]
  },
  {
   "cell_type": "code",
   "execution_count": 21,
   "id": "760eb3f6",
   "metadata": {},
   "outputs": [
    {
     "name": "stdout",
     "output_type": "stream",
     "text": [
      "mahesh is a good person\n",
      "good\n",
      "yes he has crush on her\n"
     ]
    }
   ],
   "source": [
    "a=input()\n",
    "b=input()\n",
    "if b in a:\n",
    "    print(\"yes he has crush on her\")"
   ]
  },
  {
   "cell_type": "code",
   "execution_count": 23,
   "id": "faaea183",
   "metadata": {},
   "outputs": [
    {
     "name": "stdout",
     "output_type": "stream",
     "text": [
      "suresh is hacker\n",
      "suresh\n",
      "yes pravin is good guy\n"
     ]
    }
   ],
   "source": [
    "a=input()\n",
    "b=input()\n",
    "if b in a:\n",
    "    print(\"yes pravin is good guy\")\n",
    "else:\n",
    "    print(\"no pravin is bad guy\")\n",
    "    "
   ]
  },
  {
   "cell_type": "code",
   "execution_count": 26,
   "id": "353de55b",
   "metadata": {},
   "outputs": [
    {
     "name": "stdout",
     "output_type": "stream",
     "text": [
      "mahesh\n",
      "s\n",
      "mah\n",
      "sh\n"
     ]
    }
   ],
   "source": [
    "a=input()\n",
    "print(a[4:5])\n",
    "print(a[:3])\n",
    "print(a[4:6])"
   ]
  },
  {
   "cell_type": "code",
   "execution_count": 27,
   "id": "5ee97763",
   "metadata": {},
   "outputs": [
    {
     "name": "stdout",
     "output_type": "stream",
     "text": [
      " PRAVIN S \n",
      " pravin s \n",
      "['pravin', 's']\n",
      "pravin s\n",
      " nravin s \n"
     ]
    }
   ],
   "source": [
    "a=\" pravin s \"\n",
    "print(a.upper())\n",
    "print(a.lower())\n",
    "print(a.split())\n",
    "print(a.strip())\n",
    "print(a.replace('p','n'))"
   ]
  },
  {
   "cell_type": "code",
   "execution_count": 37,
   "id": "adbe5473",
   "metadata": {},
   "outputs": [
    {
     "name": "stdout",
     "output_type": "stream",
     "text": [
      "0.6666666666666666\n"
     ]
    }
   ],
   "source": [
    "x=2\n",
    "y=3\n",
    "print(x/y)\n"
   ]
  },
  {
   "cell_type": "code",
   "execution_count": null,
   "id": "5634f2c0",
   "metadata": {},
   "outputs": [],
   "source": []
  },
  {
   "cell_type": "code",
   "execution_count": null,
   "id": "05de0f79",
   "metadata": {},
   "outputs": [],
   "source": []
  },
  {
   "cell_type": "code",
   "execution_count": 32,
   "id": "68c19dd3",
   "metadata": {},
   "outputs": [
    {
     "name": "stdout",
     "output_type": "stream",
     "text": [
      "name:pravin\n",
      "age:21\n",
      "palce:puttur\n",
      "pravin is 21 year old and he is  from puttur \n"
     ]
    }
   ],
   "source": [
    "name=input(\"name:\")\n",
    "age=input(\"age:\")\n",
    "place=input(\"palce:\")\n",
    "str=\"{} is {} year old and he is  from {} \"\n",
    "print(str.format(name,age,place))"
   ]
  },
  {
   "cell_type": "code",
   "execution_count": 35,
   "id": "7a7741cc",
   "metadata": {},
   "outputs": [
    {
     "name": "stdout",
     "output_type": "stream",
     "text": [
      "1\n",
      "2.8\n",
      "(1+0j)\n"
     ]
    }
   ],
   "source": [
    "x = 1\n",
    "y = 2.8\n",
    "z = 1j\n",
    "a = int(x)\n",
    "b = float(y)\n",
    "c = complex(x)\n",
    "print(a)\n",
    "print(b)\n",
    "print(c)\n",
    "\n"
   ]
  },
  {
   "cell_type": "code",
   "execution_count": 43,
   "id": "b7fe0af0",
   "metadata": {},
   "outputs": [
    {
     "name": "stdout",
     "output_type": "stream",
     "text": [
      "2\n",
      "5\n",
      "32 7 0.4 -3\n"
     ]
    }
   ],
   "source": [
    "a=int(input())\n",
    "b=int(input())\n",
    "c=a**b\n",
    "d=a+b\n",
    "e=a/b\n",
    "f=a-b\n",
    "print(c,d,e,f)"
   ]
  },
  {
   "cell_type": "code",
   "execution_count": null,
   "id": "bdf3a310",
   "metadata": {},
   "outputs": [],
   "source": []
  },
  {
   "cell_type": "code",
   "execution_count": null,
   "id": "b04b32b8",
   "metadata": {},
   "outputs": [],
   "source": []
  }
 ],
 "metadata": {
  "kernelspec": {
   "display_name": "Python 3 (ipykernel)",
   "language": "python",
   "name": "python3"
  },
  "language_info": {
   "codemirror_mode": {
    "name": "ipython",
    "version": 3
   },
   "file_extension": ".py",
   "mimetype": "text/x-python",
   "name": "python",
   "nbconvert_exporter": "python",
   "pygments_lexer": "ipython3",
   "version": "3.9.7"
  }
 },
 "nbformat": 4,
 "nbformat_minor": 5
}
