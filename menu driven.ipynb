{
 "cells": [
  {
   "cell_type": "code",
   "execution_count": 15,
   "id": "eabf68b7",
   "metadata": {},
   "outputs": [
    {
     "name": "stdout",
     "output_type": "stream",
     "text": [
      "welcome to calculator\n",
      "\n",
      "MENU\n",
      "1.sum of two number\n",
      "2.diff between two number\n",
      "3.product of two number\n",
      "4.division of two number\n",
      "5.exit\n",
      "\n",
      "enter the choice: 1\n",
      "\n",
      "ADDITION\n",
      "\n",
      "first number:22\n",
      "second umber:44\n",
      "22 + 44 = 66\n",
      "\n",
      "MENU\n",
      "1.sum of two number\n",
      "2.diff between two number\n",
      "3.product of two number\n",
      "4.division of two number\n",
      "5.exit\n",
      "\n",
      "enter the choice: 2\n",
      "\n",
      "SUBSTRACTION\n",
      "\n",
      "first number:77\n",
      "second umber:55\n",
      "77 - 55 = 22\n",
      "\n",
      "MENU\n",
      "1.sum of two number\n",
      "2.diff between two number\n",
      "3.product of two number\n",
      "4.division of two number\n",
      "5.exit\n",
      "\n",
      "enter the choice: 3\n",
      "\n",
      "MULTIPLICATION\n",
      "\n",
      "first number:68\n",
      "second umber:98\n",
      "68 x 98 = 6664\n",
      "\n",
      "MENU\n",
      "1.sum of two number\n",
      "2.diff between two number\n",
      "3.product of two number\n",
      "4.division of two number\n",
      "5.exit\n",
      "\n",
      "enter the choice: 4\n",
      "\n",
      "DIVSION\n",
      "\n",
      "first number:285962\n",
      "second umber:6539\n",
      "285962 / 6539 = 43.731763266554516\n",
      "\n",
      "MENU\n",
      "1.sum of two number\n",
      "2.diff between two number\n",
      "3.product of two number\n",
      "4.division of two number\n",
      "5.exit\n",
      "\n",
      "enter the choice: 5\n"
     ]
    }
   ],
   "source": [
    "def add(a,b):\n",
    "    sum=a+b\n",
    "    print(a,\"+\",b,\"=\",sum)\n",
    "def sub(a,b):\n",
    "    diff=a-b\n",
    "    print(a,\"-\",b,\"=\",diff)\n",
    "def mult(a,b):\n",
    "    product=a*b\n",
    "    print(a,\"x\",b,\"=\",product)\n",
    "def divi(a,b):\n",
    "    division=a/b\n",
    "    print(a,\"/\",b,\"=\",division)\n",
    "print(\"welcome to calculator\")\n",
    "while True:\n",
    "    print(\"\\nMENU\")\n",
    "    print(\"1.sum of two number\")\n",
    "    print(\"2.diff between two number\")\n",
    "    print(\"3.product of two number\")\n",
    "    print(\"4.division of two number\")\n",
    "    print(\"5.exit\")\n",
    "    choice=int(input(\"\\nenter the choice: \"))\n",
    "    if choice == 1:\n",
    "        print(\"\\nADDITION\\n\")\n",
    "        a=int(input(\"first number:\"))\n",
    "        b=int(input(\"second umber:\"))\n",
    "        add(a,b)\n",
    "    elif choice == 2:\n",
    "        print(\"\\nSUBSTRACTION\\n\")\n",
    "        a=int(input(\"first number:\"))\n",
    "        b=int(input(\"second umber:\"))\n",
    "        sub(a,b)\n",
    "    elif choice == 3:\n",
    "        print(\"\\nMULTIPLICATION\\n\")\n",
    "        a=int(input(\"first number:\"))\n",
    "        b=int(input(\"second umber:\"))\n",
    "        mult(a,b)\n",
    "    elif choice == 4:\n",
    "        print(\"\\nDIVSION\\n\")\n",
    "        a=int(input(\"first number:\"))\n",
    "        b=int(input(\"second umber:\"))\n",
    "        divi(a,b)\n",
    "    elif choice == 5:  \n",
    "        break  \n",
    "      \n",
    "    else:  \n",
    "        print( \"Please Provide a valid Input!\")      \n",
    "        \n",
    "    "
   ]
  },
  {
   "cell_type": "code",
   "execution_count": 11,
   "id": "a99a319c",
   "metadata": {},
   "outputs": [
    {
     "name": "stdout",
     "output_type": "stream",
     "text": [
      "enter the integer50\n",
      "1.7182818284590455\n"
     ]
    }
   ],
   "source": [
    "def factorial(n):\n",
    "    res=1\n",
    "    for i in range(2,n+1):\n",
    "        res*=i\n",
    "    return res\n",
    "def sum(n):\n",
    "    s=0.0\n",
    "    for i in range(1,n+1):\n",
    "        s+=1.0/factorial(i)\n",
    "    print(s)\n",
    "n=int(input(\"enter the integer\"))\n",
    "sum(n)"
   ]
  },
  {
   "cell_type": "code",
   "execution_count": 12,
   "id": "945e2cca",
   "metadata": {},
   "outputs": [
    {
     "data": {
      "text/plain": [
       "0.02"
      ]
     },
     "execution_count": 12,
     "metadata": {},
     "output_type": "execute_result"
    }
   ],
   "source": [
    "1/50\n"
   ]
  },
  {
   "cell_type": "code",
   "execution_count": null,
   "id": "fae5f742",
   "metadata": {},
   "outputs": [],
   "source": [
    "1\n"
   ]
  }
 ],
 "metadata": {
  "kernelspec": {
   "display_name": "Python 3 (ipykernel)",
   "language": "python",
   "name": "python3"
  },
  "language_info": {
   "codemirror_mode": {
    "name": "ipython",
    "version": 3
   },
   "file_extension": ".py",
   "mimetype": "text/x-python",
   "name": "python",
   "nbconvert_exporter": "python",
   "pygments_lexer": "ipython3",
   "version": "3.9.7"
  }
 },
 "nbformat": 4,
 "nbformat_minor": 5
}
